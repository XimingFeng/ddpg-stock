{
 "cells": [
  {
   "cell_type": "code",
   "execution_count": 1,
   "metadata": {},
   "outputs": [],
   "source": [
    "from stock_env import StockEnv\n",
    "import pandas as pd\n",
    "import numpy as np\n",
    "from replay_buffer import Buffer\n",
    "\n",
    "%load_ext autoreload\n",
    "%autoreload 2"
   ]
  },
  {
   "cell_type": "code",
   "execution_count": 2,
   "metadata": {},
   "outputs": [],
   "source": [
    "env_args = {\n",
    "    \"asset_codes\": ['AAPL', 'V', 'BABA', 'ADBE', 'SNE'],\n",
    "    \"features\": [\"close\", \"high\", \"low\"],\n",
    "    \"start_date\": \"2017-12-12\",\n",
    "    \"end_date\": \"2017-12-16\", \n",
    "    \"window_len\": 2,\n",
    "    \"data_path\": \"AmericaStock.csv\"\n",
    "}"
   ]
  },
  {
   "cell_type": "code",
   "execution_count": 3,
   "metadata": {},
   "outputs": [],
   "source": [
    "stock_env = StockEnv(**env_args)"
   ]
  },
  {
   "cell_type": "code",
   "execution_count": 4,
   "metadata": {},
   "outputs": [
    {
     "data": {
      "text/plain": [
       "3"
      ]
     },
     "execution_count": 4,
     "metadata": {},
     "output_type": "execute_result"
    }
   ],
   "source": [
    "len(stock_env.states)"
   ]
  },
  {
   "cell_type": "code",
   "execution_count": 5,
   "metadata": {},
   "outputs": [],
   "source": [
    "buffer_args = {\n",
    "    'state_dim': (1, 5, 2, 3),\n",
    "    'action_dim': (6, )\n",
    "}"
   ]
  },
  {
   "cell_type": "code",
   "execution_count": 6,
   "metadata": {},
   "outputs": [],
   "source": [
    "stock_buffer = Buffer(**buffer_args)"
   ]
  },
  {
   "cell_type": "code",
   "execution_count": 7,
   "metadata": {},
   "outputs": [
    {
     "data": {
      "text/plain": [
       "1"
      ]
     },
     "execution_count": 7,
     "metadata": {},
     "output_type": "execute_result"
    }
   ],
   "source": [
    "state = stock_env.reset()\n",
    "stock_env.t"
   ]
  },
  {
   "cell_type": "code",
   "execution_count": 8,
   "metadata": {},
   "outputs": [],
   "source": [
    "\n",
    "action0 = np.array([0, 1, 0, 0, 0, 0])\n",
    "reward, done, next_state = stock_env.step(action0)"
   ]
  },
  {
   "cell_type": "code",
   "execution_count": 9,
   "metadata": {},
   "outputs": [],
   "source": [
    "stock_buffer.insert(state, action0, reward, next_state, done)"
   ]
  },
  {
   "cell_type": "code",
   "execution_count": 10,
   "metadata": {},
   "outputs": [
    {
     "data": {
      "text/plain": [
       "2"
      ]
     },
     "execution_count": 10,
     "metadata": {},
     "output_type": "execute_result"
    }
   ],
   "source": [
    "stock_env.t"
   ]
  },
  {
   "cell_type": "code",
   "execution_count": 11,
   "metadata": {},
   "outputs": [],
   "source": [
    "action1 = np.array([0, 1, 0, 0, 0, 0])\n",
    "reward, done, next_state = stock_env.step(action1)"
   ]
  },
  {
   "cell_type": "code",
   "execution_count": 12,
   "metadata": {},
   "outputs": [],
   "source": [
    "stock_buffer.insert(state, action1, reward, next_state, done)"
   ]
  },
  {
   "cell_type": "code",
   "execution_count": 13,
   "metadata": {},
   "outputs": [
    {
     "data": {
      "text/plain": [
       "array([[0., 1., 0., 0., 0., 0.],\n",
       "       [0., 1., 0., 0., 0., 0.],\n",
       "       [0., 0., 0., 0., 0., 0.],\n",
       "       ...,\n",
       "       [0., 0., 0., 0., 0., 0.],\n",
       "       [0., 0., 0., 0., 0., 0.],\n",
       "       [0., 0., 0., 0., 0., 0.]])"
      ]
     },
     "execution_count": 13,
     "metadata": {},
     "output_type": "execute_result"
    }
   ],
   "source": [
    "stock_buffer.action_buffer"
   ]
  },
  {
   "cell_type": "code",
   "execution_count": 14,
   "metadata": {
    "scrolled": true
   },
   "outputs": [
    {
     "data": {
      "text/plain": [
       "array([[[[[0.9902282 , 0.99752831, 0.98867621],\n",
       "          [0.98994079, 0.99517158, 0.98666437]],\n",
       "\n",
       "         [[0.99551924, 1.00483219, 0.99446494],\n",
       "          [0.99209278, 1.00237217, 0.99209278]],\n",
       "\n",
       "         [[1.01682512, 1.02391242, 1.00432152],\n",
       "          [0.98962835, 0.99907808, 0.97729761]],\n",
       "\n",
       "         [[0.99616923, 0.99949299, 0.97622669],\n",
       "          [0.98585995, 1.00681652, 0.98574728]],\n",
       "\n",
       "         [[0.99576271, 0.99732382, 0.99308653],\n",
       "          [0.99130241, 0.99776985, 0.99130241]]]],\n",
       "\n",
       "\n",
       "\n",
       "       [[[[0.98994079, 0.99517158, 0.98666437],\n",
       "          [1.        , 1.00114962, 0.99132034]],\n",
       "\n",
       "         [[0.99209278, 1.00237217, 0.99209278],\n",
       "          [1.        , 1.0033386 , 0.9874363 ]],\n",
       "\n",
       "         [[0.98962835, 0.99907808, 0.97729761],\n",
       "          [1.        , 1.        , 0.9795448 ]],\n",
       "\n",
       "         [[0.98585995, 1.00681652, 0.98574728],\n",
       "          [1.        , 1.01391471, 0.98191651]],\n",
       "\n",
       "         [[0.99130241, 0.99776985, 0.99130241],\n",
       "          [1.        , 1.00334523, 0.99375558]]]],\n",
       "\n",
       "\n",
       "\n",
       "       [[[[0.        , 0.        , 0.        ],\n",
       "          [0.        , 0.        , 0.        ]],\n",
       "\n",
       "         [[0.        , 0.        , 0.        ],\n",
       "          [0.        , 0.        , 0.        ]],\n",
       "\n",
       "         [[0.        , 0.        , 0.        ],\n",
       "          [0.        , 0.        , 0.        ]],\n",
       "\n",
       "         [[0.        , 0.        , 0.        ],\n",
       "          [0.        , 0.        , 0.        ]],\n",
       "\n",
       "         [[0.        , 0.        , 0.        ],\n",
       "          [0.        , 0.        , 0.        ]]]],\n",
       "\n",
       "\n",
       "\n",
       "       ...,\n",
       "\n",
       "\n",
       "\n",
       "       [[[[0.        , 0.        , 0.        ],\n",
       "          [0.        , 0.        , 0.        ]],\n",
       "\n",
       "         [[0.        , 0.        , 0.        ],\n",
       "          [0.        , 0.        , 0.        ]],\n",
       "\n",
       "         [[0.        , 0.        , 0.        ],\n",
       "          [0.        , 0.        , 0.        ]],\n",
       "\n",
       "         [[0.        , 0.        , 0.        ],\n",
       "          [0.        , 0.        , 0.        ]],\n",
       "\n",
       "         [[0.        , 0.        , 0.        ],\n",
       "          [0.        , 0.        , 0.        ]]]],\n",
       "\n",
       "\n",
       "\n",
       "       [[[[0.        , 0.        , 0.        ],\n",
       "          [0.        , 0.        , 0.        ]],\n",
       "\n",
       "         [[0.        , 0.        , 0.        ],\n",
       "          [0.        , 0.        , 0.        ]],\n",
       "\n",
       "         [[0.        , 0.        , 0.        ],\n",
       "          [0.        , 0.        , 0.        ]],\n",
       "\n",
       "         [[0.        , 0.        , 0.        ],\n",
       "          [0.        , 0.        , 0.        ]],\n",
       "\n",
       "         [[0.        , 0.        , 0.        ],\n",
       "          [0.        , 0.        , 0.        ]]]],\n",
       "\n",
       "\n",
       "\n",
       "       [[[[0.        , 0.        , 0.        ],\n",
       "          [0.        , 0.        , 0.        ]],\n",
       "\n",
       "         [[0.        , 0.        , 0.        ],\n",
       "          [0.        , 0.        , 0.        ]],\n",
       "\n",
       "         [[0.        , 0.        , 0.        ],\n",
       "          [0.        , 0.        , 0.        ]],\n",
       "\n",
       "         [[0.        , 0.        , 0.        ],\n",
       "          [0.        , 0.        , 0.        ]],\n",
       "\n",
       "         [[0.        , 0.        , 0.        ],\n",
       "          [0.        , 0.        , 0.        ]]]]])"
      ]
     },
     "execution_count": 14,
     "metadata": {},
     "output_type": "execute_result"
    }
   ],
   "source": [
    "stock_buffer.next_state_buffer"
   ]
  },
  {
   "cell_type": "code",
   "execution_count": 15,
   "metadata": {},
   "outputs": [],
   "source": [
    "action2 = np.array([0, 1, 0, 0, 0, 0])\n",
    "reward, done, next_state = stock_env.step(action2)"
   ]
  },
  {
   "cell_type": "code",
   "execution_count": 16,
   "metadata": {},
   "outputs": [
    {
     "data": {
      "text/plain": [
       "True"
      ]
     },
     "execution_count": 16,
     "metadata": {},
     "output_type": "execute_result"
    }
   ],
   "source": [
    "done"
   ]
  },
  {
   "cell_type": "code",
   "execution_count": null,
   "metadata": {},
   "outputs": [],
   "source": []
  }
 ],
 "metadata": {
  "kernelspec": {
   "display_name": "ddpg",
   "language": "python",
   "name": "ddpg"
  },
  "language_info": {
   "codemirror_mode": {
    "name": "ipython",
    "version": 3
   },
   "file_extension": ".py",
   "mimetype": "text/x-python",
   "name": "python",
   "nbconvert_exporter": "python",
   "pygments_lexer": "ipython3",
   "version": "3.6.10"
  }
 },
 "nbformat": 4,
 "nbformat_minor": 2
}
