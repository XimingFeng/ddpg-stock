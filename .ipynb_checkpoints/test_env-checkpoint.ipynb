{
 "cells": [
  {
   "cell_type": "code",
   "execution_count": 11,
   "metadata": {},
   "outputs": [
    {
     "name": "stdout",
     "output_type": "stream",
     "text": [
      "The autoreload extension is already loaded. To reload it, use:\n",
      "  %reload_ext autoreload\n"
     ]
    }
   ],
   "source": [
    "import gym\n",
    "import matplotlib.pyplot as plt\n",
    "import numpy as np\n",
    "%matplotlib inline\n",
    "%load_ext autoreload\n",
    "%autoreload 2"
   ]
  },
  {
   "cell_type": "code",
   "execution_count": 2,
   "metadata": {},
   "outputs": [],
   "source": [
    "problem = \"Pendulum-v0\"\n",
    "env = gym.make(problem)"
   ]
  },
  {
   "cell_type": "code",
   "execution_count": 3,
   "metadata": {},
   "outputs": [],
   "source": [
    "from ddpg import ActorCritic"
   ]
  },
  {
   "cell_type": "code",
   "execution_count": 4,
   "metadata": {},
   "outputs": [
    {
     "name": "stdout",
     "output_type": "stream",
     "text": [
      "Actor Network Summary: \n",
      "Model: \"functional_1\"\n",
      "_________________________________________________________________\n",
      "Layer (type)                 Output Shape              Param #   \n",
      "=================================================================\n",
      "input_1 (InputLayer)         [(None, 3)]               0         \n",
      "_________________________________________________________________\n",
      "dense (Dense)                (None, 512)               2048      \n",
      "_________________________________________________________________\n",
      "dense_1 (Dense)              (None, 1)                 513       \n",
      "_________________________________________________________________\n",
      "gaussian_noise (GaussianNois (None, 1)                 0         \n",
      "=================================================================\n",
      "Total params: 2,561\n",
      "Trainable params: 2,561\n",
      "Non-trainable params: 0\n",
      "_________________________________________________________________\n",
      "Critic Network Summary: \n",
      "Model: \"functional_3\"\n",
      "__________________________________________________________________________________________________\n",
      "Layer (type)                    Output Shape         Param #     Connected to                     \n",
      "==================================================================================================\n",
      "input_2 (InputLayer)            [(None, 3)]          0                                            \n",
      "__________________________________________________________________________________________________\n",
      "input_3 (InputLayer)            [(None, 1)]          0                                            \n",
      "__________________________________________________________________________________________________\n",
      "dense_2 (Dense)                 (None, 16)           64          input_2[0][0]                    \n",
      "__________________________________________________________________________________________________\n",
      "dense_3 (Dense)                 (None, 32)           64          input_3[0][0]                    \n",
      "__________________________________________________________________________________________________\n",
      "concatenate (Concatenate)       (None, 48)           0           dense_2[0][0]                    \n",
      "                                                                 dense_3[0][0]                    \n",
      "__________________________________________________________________________________________________\n",
      "dense_4 (Dense)                 (None, 512)          25088       concatenate[0][0]                \n",
      "__________________________________________________________________________________________________\n",
      "dense_5 (Dense)                 (None, 1)            513         dense_4[0][0]                    \n",
      "==================================================================================================\n",
      "Total params: 25,729\n",
      "Trainable params: 25,729\n",
      "Non-trainable params: 0\n",
      "__________________________________________________________________________________________________\n"
     ]
    }
   ],
   "source": [
    "actor_critic = ActorCritic(env.observation_space.shape, env.action_space.shape)"
   ]
  },
  {
   "cell_type": "code",
   "execution_count": 5,
   "metadata": {},
   "outputs": [],
   "source": [
    "train_param = {\n",
    "    \"env\": env, \n",
    "    \"num_eps\":100,\n",
    "    \"actor_lr\": 0.001,\n",
    "    \"critic_lr\": 0.001,\n",
    "}"
   ]
  },
  {
   "cell_type": "code",
   "execution_count": 6,
   "metadata": {
    "scrolled": true
   },
   "outputs": [
    {
     "name": "stdout",
     "output_type": "stream",
     "text": [
      "Episode 0, reward: [-848.89465]\n",
      "Episode 1, reward: [-1070.0604]\n",
      "Episode 2, reward: [-1313.9572]\n",
      "Episode 3, reward: [-1492.7798]\n",
      "Episode 4, reward: [-1476.3612]\n",
      "Episode 5, reward: [-1496.5359]\n",
      "Episode 6, reward: [-1443.7761]\n",
      "Episode 7, reward: [-857.44037]\n",
      "Episode 8, reward: [-994.13806]\n",
      "Episode 9, reward: [-1463.455]\n",
      "Episode 10, reward: [-863.42084]\n",
      "Episode 11, reward: [-871.13696]\n",
      "Episode 12, reward: [-1032.4083]\n",
      "Episode 13, reward: [-1505.984]\n",
      "Episode 14, reward: [-1171.094]\n",
      "Episode 15, reward: [-1731.6984]\n",
      "Episode 16, reward: [-1322.7864]\n",
      "Episode 17, reward: [-762.10114]\n",
      "Episode 18, reward: [-1344.793]\n",
      "Episode 19, reward: [-1000.3835]\n",
      "Episode 20, reward: [-1661.2698]\n",
      "Episode 21, reward: [-1161.9182]\n",
      "Episode 22, reward: [-1054.7838]\n",
      "Episode 23, reward: [-1166.0719]\n",
      "Episode 24, reward: [-1118.1902]\n",
      "Episode 25, reward: [-1861.3573]\n",
      "Episode 26, reward: [-899.5349]\n",
      "Episode 27, reward: [-1876.7417]\n",
      "Episode 28, reward: [-1750.1238]\n",
      "Episode 29, reward: [-1285.7692]\n",
      "Episode 30, reward: [-1228.2622]\n",
      "Episode 31, reward: [-1771.6155]\n",
      "Episode 32, reward: [-1550.812]\n",
      "Episode 33, reward: [-1709.1333]\n",
      "Episode 34, reward: [-1872.8085]\n",
      "Episode 35, reward: [-1868.869]\n",
      "Episode 36, reward: [-1594.2317]\n",
      "Episode 37, reward: [-1785.4218]\n",
      "Episode 38, reward: [-1587.1503]\n",
      "Episode 39, reward: [-1446.6799]\n",
      "Episode 40, reward: [-1127.071]\n",
      "Episode 41, reward: [-1627.3942]\n",
      "Episode 42, reward: [-1202.8176]\n",
      "Episode 43, reward: [-1598.3317]\n",
      "Episode 44, reward: [-1491.8376]\n",
      "Episode 45, reward: [-1529.8689]\n",
      "Episode 46, reward: [-1773.8251]\n",
      "Episode 47, reward: [-1730.4526]\n",
      "Episode 48, reward: [-1696.9481]\n",
      "Episode 49, reward: [-1647.1642]\n",
      "Episode 50, reward: [-1592.9006]\n",
      "Episode 51, reward: [-1678.0658]\n",
      "Episode 52, reward: [-1680.7906]\n",
      "Episode 53, reward: [-1625.3378]\n",
      "Episode 54, reward: [-1444.6473]\n",
      "Episode 55, reward: [-1528.9708]\n",
      "Episode 56, reward: [-1559.4987]\n",
      "Episode 57, reward: [-1392.1411]\n",
      "Episode 58, reward: [-1520.1407]\n",
      "Episode 59, reward: [-1486.2709]\n",
      "Episode 60, reward: [-1444.0815]\n",
      "Episode 61, reward: [-1344.9926]\n",
      "Episode 62, reward: [-1511.5502]\n",
      "Episode 63, reward: [-1303.1359]\n",
      "Episode 64, reward: [-1270.7134]\n",
      "Episode 65, reward: [-1262.5565]\n",
      "Episode 66, reward: [-848.86694]\n",
      "Episode 67, reward: [-1432.1732]\n",
      "Episode 68, reward: [-1179.5901]\n",
      "Episode 69, reward: [-1181.593]\n",
      "Episode 70, reward: [-1162.1748]\n",
      "Episode 71, reward: [-1077.5304]\n",
      "Episode 72, reward: [-1181.5621]\n",
      "Episode 73, reward: [-1230.937]\n",
      "Episode 74, reward: [-1391.7162]\n",
      "Episode 75, reward: [-1428.8573]\n",
      "Episode 76, reward: [-1440.6083]\n",
      "Episode 77, reward: [-1548.4144]\n",
      "Episode 78, reward: [-1479.4155]\n",
      "Episode 79, reward: [-1179.2756]\n",
      "Episode 80, reward: [-1469.2993]\n",
      "Episode 81, reward: [-1125.1326]\n",
      "Episode 82, reward: [-1480.0576]\n",
      "Episode 83, reward: [-1614.0007]\n",
      "Episode 84, reward: [-1303.6235]\n",
      "Episode 85, reward: [-1163.7573]\n",
      "Episode 86, reward: [-1218.4711]\n",
      "Episode 87, reward: [-1295.0225]\n",
      "Episode 88, reward: [-1059.5828]\n",
      "Episode 89, reward: [-1567.8136]\n",
      "Episode 90, reward: [-1264.3352]\n",
      "Episode 91, reward: [-1307.0002]\n",
      "Episode 92, reward: [-1412.0946]\n",
      "Episode 93, reward: [-1301.4471]\n",
      "Episode 94, reward: [-1288.4738]\n",
      "Episode 95, reward: [-1116.092]\n",
      "Episode 96, reward: [-1395.3546]\n",
      "Episode 97, reward: [-1190.0663]\n",
      "Episode 98, reward: [-1380.5801]\n",
      "Episode 99, reward: [-1600.6517]\n"
     ]
    }
   ],
   "source": [
    "rewards = actor_critic.train(**train_param)"
   ]
  },
  {
   "cell_type": "code",
   "execution_count": 13,
   "metadata": {},
   "outputs": [
    {
     "data": {
      "text/plain": [
       "array([ -848.89465, -1070.0604 , -1313.9572 , -1492.7798 , -1476.3612 ,\n",
       "       -1496.5359 , -1443.7761 ,  -857.44037,  -994.13806, -1463.455  ,\n",
       "        -863.42084,  -871.13696, -1032.4083 , -1505.984  , -1171.094  ,\n",
       "       -1731.6984 , -1322.7864 ,  -762.10114, -1344.793  , -1000.3835 ,\n",
       "       -1661.2698 , -1161.9182 , -1054.7838 , -1166.0719 , -1118.1902 ,\n",
       "       -1861.3573 ,  -899.5349 , -1876.7417 , -1750.1238 , -1285.7692 ,\n",
       "       -1228.2622 , -1771.6155 , -1550.812  , -1709.1333 , -1872.8085 ,\n",
       "       -1868.869  , -1594.2317 , -1785.4218 , -1587.1503 , -1446.6799 ,\n",
       "       -1127.071  , -1627.3942 , -1202.8176 , -1598.3317 , -1491.8376 ,\n",
       "       -1529.8689 , -1773.8251 , -1730.4526 , -1696.9481 , -1647.1642 ,\n",
       "       -1592.9006 , -1678.0658 , -1680.7906 , -1625.3378 , -1444.6473 ,\n",
       "       -1528.9708 , -1559.4987 , -1392.1411 , -1520.1407 , -1486.2709 ,\n",
       "       -1444.0815 , -1344.9926 , -1511.5502 , -1303.1359 , -1270.7134 ,\n",
       "       -1262.5565 ,  -848.86694, -1432.1732 , -1179.5901 , -1181.593  ,\n",
       "       -1162.1748 , -1077.5304 , -1181.5621 , -1230.937  , -1391.7162 ,\n",
       "       -1428.8573 , -1440.6083 , -1548.4144 , -1479.4155 , -1179.2756 ,\n",
       "       -1469.2993 , -1125.1326 , -1480.0576 , -1614.0007 , -1303.6235 ,\n",
       "       -1163.7573 , -1218.4711 , -1295.0225 , -1059.5828 , -1567.8136 ,\n",
       "       -1264.3352 , -1307.0002 , -1412.0946 , -1301.4471 , -1288.4738 ,\n",
       "       -1116.092  , -1395.3546 , -1190.0663 , -1380.5801 , -1600.6517 ],\n",
       "      dtype=float32)"
      ]
     },
     "execution_count": 13,
     "metadata": {},
     "output_type": "execute_result"
    }
   ],
   "source": []
  },
  {
   "cell_type": "code",
   "execution_count": 17,
   "metadata": {},
   "outputs": [],
   "source": [
    "problem = \"Pendulum-v0\"\n",
    "env = gym.make(problem)\n",
    "actor_critic.test(env)"
   ]
  },
  {
   "cell_type": "code",
   "execution_count": 16,
   "metadata": {},
   "outputs": [
    {
     "data": {
      "image/png": "[encoded data removed]",
      "text/plain": [
       "<Figure size 432x288 with 1 Axes>"
      ]
     },
     "metadata": {
      "needs_background": "light"
     },
     "output_type": "display_data"
    }
   ],
   "source": [
    "plt.plot(np.squeeze(np.array(rewards)))\n",
    "plt.xlabel(\"Episode\")\n",
    "plt.ylabel(\"Episodic Rewards\")\n",
    "plt.show()"
   ]
  },
  {
   "cell_type": "code",
   "execution_count": 26,
   "metadata": {},
   "outputs": [],
   "source": []
  },
  {
   "cell_type": "code",
   "execution_count": 27,
   "metadata": {},
   "outputs": [
    {
     "data": {
      "text/plain": [
       "array([-0.13641656, -0.99065156,  0.23321824])"
      ]
     },
     "execution_count": 27,
     "metadata": {},
     "output_type": "execute_result"
    }
   ],
   "source": [
    " "
   ]
  },
  {
   "cell_type": "code",
   "execution_count": null,
   "metadata": {},
   "outputs": [],
   "source": []
  },
  {
   "cell_type": "code",
   "execution_count": 20,
   "metadata": {},
   "outputs": [],
   "source": []
  },
  {
   "cell_type": "code",
   "execution_count": 21,
   "metadata": {},
   "outputs": [],
   "source": []
  },
  {
   "cell_type": "code",
   "execution_count": 4,
   "metadata": {},
   "outputs": [
    {
     "name": "stdout",
     "output_type": "stream",
     "text": [
      "Actor Network Summary: \n",
      "Model: \"functional_1\"\n",
      "_________________________________________________________________\n",
      "Layer (type)                 Output Shape              Param #   \n",
      "=================================================================\n",
      "input_1 (InputLayer)         [(None, 3)]               0         \n",
      "_________________________________________________________________\n",
      "dense (Dense)                (None, 512)               2048      \n",
      "_________________________________________________________________\n",
      "dense_1 (Dense)              (None, 1)                 513       \n",
      "_________________________________________________________________\n",
      "gaussian_noise (GaussianNois (None, 1)                 0         \n",
      "=================================================================\n",
      "Total params: 2,561\n",
      "Trainable params: 2,561\n",
      "Non-trainable params: 0\n",
      "_________________________________________________________________\n",
      "Critic Network Summary: \n",
      "Model: \"functional_3\"\n",
      "__________________________________________________________________________________________________\n",
      "Layer (type)                    Output Shape         Param #     Connected to                     \n",
      "==================================================================================================\n",
      "input_2 (InputLayer)            [(None, 3)]          0                                            \n",
      "__________________________________________________________________________________________________\n",
      "input_3 (InputLayer)            [(None, 1)]          0                                            \n",
      "__________________________________________________________________________________________________\n",
      "dense_2 (Dense)                 (None, 16)           64          input_2[0][0]                    \n",
      "__________________________________________________________________________________________________\n",
      "dense_3 (Dense)                 (None, 32)           64          input_3[0][0]                    \n",
      "__________________________________________________________________________________________________\n",
      "concatenate (Concatenate)       (None, 48)           0           dense_2[0][0]                    \n",
      "                                                                 dense_3[0][0]                    \n",
      "__________________________________________________________________________________________________\n",
      "dense_4 (Dense)                 (None, 512)          25088       concatenate[0][0]                \n",
      "__________________________________________________________________________________________________\n",
      "dense_5 (Dense)                 (None, 1)            513         dense_4[0][0]                    \n",
      "==================================================================================================\n",
      "Total params: 25,729\n",
      "Trainable params: 25,729\n",
      "Non-trainable params: 0\n",
      "__________________________________________________________________________________________________\n"
     ]
    }
   ],
   "source": []
  },
  {
   "cell_type": "code",
   "execution_count": 7,
   "metadata": {},
   "outputs": [],
   "source": []
  },
  {
   "cell_type": "code",
   "execution_count": null,
   "metadata": {
    "scrolled": true
   },
   "outputs": [
    {
     "name": "stdout",
     "output_type": "stream",
     "text": [
      "Episode 0, reward: [-1792.5974]\n",
      "Episode 1, reward: [-1834.559]\n"
     ]
    }
   ],
   "source": []
  },
  {
   "cell_type": "code",
   "execution_count": 7,
   "metadata": {},
   "outputs": [
    {
     "ename": "ModuleNotFoundError",
     "evalue": "No module named 'matplotlib'",
     "output_type": "error",
     "traceback": [
      "\u001b[0;31m---------------------------------------------------------------------------\u001b[0m",
      "\u001b[0;31mModuleNotFoundError\u001b[0m                       Traceback (most recent call last)",
      "\u001b[0;32m<ipython-input-7-94f989ee9d39>\u001b[0m in \u001b[0;36m<module>\u001b[0;34m\u001b[0m\n\u001b[0;32m----> 1\u001b[0;31m \u001b[0;32mimport\u001b[0m \u001b[0mmatplotlib\u001b[0m\u001b[0;34m.\u001b[0m\u001b[0mpyplot\u001b[0m \u001b[0;32mas\u001b[0m \u001b[0mplot\u001b[0m\u001b[0;34m\u001b[0m\u001b[0;34m\u001b[0m\u001b[0m\n\u001b[0m\u001b[1;32m      2\u001b[0m \u001b[0;34m\u001b[0m\u001b[0m\n\u001b[1;32m      3\u001b[0m \u001b[0mget_ipython\u001b[0m\u001b[0;34m(\u001b[0m\u001b[0;34m)\u001b[0m\u001b[0;34m.\u001b[0m\u001b[0mrun_line_magic\u001b[0m\u001b[0;34m(\u001b[0m\u001b[0;34m'matplotlib'\u001b[0m\u001b[0;34m,\u001b[0m \u001b[0;34m'inline'\u001b[0m\u001b[0;34m)\u001b[0m\u001b[0;34m\u001b[0m\u001b[0;34m\u001b[0m\u001b[0m\n",
      "\u001b[0;31mModuleNotFoundError\u001b[0m: No module named 'matplotlib'"
     ]
    }
   ],
   "source": []
  },
  {
   "cell_type": "code",
   "execution_count": null,
   "metadata": {},
   "outputs": [],
   "source": []
  }
 ],
 "metadata": {
  "kernelspec": {
   "display_name": "ddpg",
   "language": "python",
   "name": "ddpg"
  },
  "language_info": {
   "codemirror_mode": {
    "name": "ipython",
    "version": 3
   },
   "file_extension": ".py",
   "mimetype": "text/x-python",
   "name": "python",
   "nbconvert_exporter": "python",
   "pygments_lexer": "ipython3",
   "version": "3.6.10"
  }
 },
 "nbformat": 4,
 "nbformat_minor": 2
}
