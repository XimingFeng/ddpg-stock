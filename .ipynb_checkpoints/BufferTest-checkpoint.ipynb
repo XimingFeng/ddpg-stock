{
 "cells": [
  {
   "cell_type": "code",
   "execution_count": 1,
   "metadata": {},
   "outputs": [],
   "source": [
    "from stock_env import StockEnv\n",
    "import pandas as pd\n",
    "import numpy as np\n",
    "from replay_buffer import Buffer\n",
    "\n",
    "%load_ext autoreload\n",
    "%autoreload 2"
   ]
  },
  {
   "cell_type": "code",
   "execution_count": 2,
   "metadata": {},
   "outputs": [],
   "source": [
    "env_args = {\n",
    "    \"asset_codes\": ['AAPL', 'V', 'BABA', 'ADBE', 'SNE'],\n",
    "    \"features\": [\"close\", \"high\", \"low\"],\n",
    "    \"start_date\": \"2017-12-12\",\n",
    "    \"end_date\": \"2017-12-16\", \n",
    "    \"window_len\": 1,\n",
    "    \"data_path\": \"AmericaStock.csv\"\n",
    "}"
   ]
  },
  {
   "cell_type": "code",
   "execution_count": 3,
   "metadata": {},
   "outputs": [],
   "source": [
    "stock_env = StockEnv(**env_args)"
   ]
  },
  {
   "cell_type": "code",
   "execution_count": 4,
   "metadata": {},
   "outputs": [
    {
     "data": {
      "text/plain": [
       "(5, 1, 3)"
      ]
     },
     "execution_count": 4,
     "metadata": {},
     "output_type": "execute_result"
    }
   ],
   "source": [
    "stock_env.states[0].shape"
   ]
  },
  {
   "cell_type": "code",
   "execution_count": 5,
   "metadata": {},
   "outputs": [],
   "source": [
    "buffer_args = {\n",
    "    'state_dim': (5, 1, 3),\n",
    "    'action_dim': (6, )\n",
    "}"
   ]
  },
  {
   "cell_type": "code",
   "execution_count": 6,
   "metadata": {},
   "outputs": [],
   "source": [
    "stock_buffer = Buffer(**buffer_args)"
   ]
  },
  {
   "cell_type": "code",
   "execution_count": 8,
   "metadata": {},
   "outputs": [],
   "source": [
    "state = stock_env.reset()\n",
    "action0 = np.array([0, 1, 0, 0, 0, 0])\n",
    "reward, done, next_state = stock_env.step(action0)"
   ]
  },
  {
   "cell_type": "code",
   "execution_count": null,
   "metadata": {},
   "outputs": [],
   "source": [
    "stock_buffer.insert(state, action0, reward, next_state, done)"
   ]
  }
 ],
 "metadata": {
  "kernelspec": {
   "display_name": "ddpg",
   "language": "python",
   "name": "ddpg"
  },
  "language_info": {
   "codemirror_mode": {
    "name": "ipython",
    "version": 3
   },
   "file_extension": ".py",
   "mimetype": "text/x-python",
   "name": "python",
   "nbconvert_exporter": "python",
   "pygments_lexer": "ipython3",
   "version": "3.6.10"
  }
 },
 "nbformat": 4,
 "nbformat_minor": 2
}
