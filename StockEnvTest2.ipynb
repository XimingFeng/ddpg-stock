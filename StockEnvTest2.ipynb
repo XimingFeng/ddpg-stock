{
 "cells": [
  {
   "cell_type": "code",
   "execution_count": 1,
   "metadata": {},
   "outputs": [],
   "source": [
    "from stock_env import StockEnv\n",
    "import pandas as pd\n",
    "import numpy as np\n",
    "\n",
    "%load_ext autoreload\n",
    "%autoreload 2"
   ]
  },
  {
   "cell_type": "code",
   "execution_count": 45,
   "metadata": {},
   "outputs": [],
   "source": [
    "env_args = {\n",
    "    \"asset_codes\": ['AAPL', 'V', 'BABA', 'ADBE', 'SNE'],\n",
    "    \"features\": [\"close\", \"high\", \"low\"],\n",
    "    \"start_date\": \"2017-12-12\",\n",
    "    \"end_date\": \"2017-12-16\", \n",
    "    \"window_len\": 1,\n",
    "    \"data_path\": \"AmericaStock.csv\"\n",
    "}"
   ]
  },
  {
   "cell_type": "code",
   "execution_count": 46,
   "metadata": {},
   "outputs": [],
   "source": [
    "stock_env = StockEnv(**env_args)"
   ]
  },
  {
   "cell_type": "code",
   "execution_count": 47,
   "metadata": {},
   "outputs": [
    {
     "name": "stdout",
     "output_type": "stream",
     "text": [
      "[array([[[[0.98695177, 0.990918  , 0.9855722 ]],\n",
      "\n",
      "        [[0.99683714, 0.9992093 , 0.98400986]],\n",
      "\n",
      "        [[1.0062807 , 1.0265629 , 1.0012677 ]],\n",
      "\n",
      "        [[0.97200155, 0.9809588 , 0.9601149 ]],\n",
      "\n",
      "        [[0.9953167 , 0.99754685, 0.9895183 ]]]], dtype=float32), array([[[[0.9902282 , 0.9975283 , 0.9886762 ]],\n",
      "\n",
      "        [[0.9955192 , 1.0048321 , 0.99446493]],\n",
      "\n",
      "        [[1.0168251 , 1.0239124 , 1.0043216 ]],\n",
      "\n",
      "        [[0.9961692 , 0.999493  , 0.9762267 ]],\n",
      "\n",
      "        [[0.9957627 , 0.9973238 , 0.9930865 ]]]], dtype=float32), array([[[[0.9899408 , 0.9951716 , 0.98666435]],\n",
      "\n",
      "        [[0.9920928 , 1.0023721 , 0.9920928 ]],\n",
      "\n",
      "        [[0.9896284 , 0.9990781 , 0.9772976 ]],\n",
      "\n",
      "        [[0.98585993, 1.0068165 , 0.9857473 ]],\n",
      "\n",
      "        [[0.99130243, 0.99776983, 0.99130243]]]], dtype=float32), array([[[[1.       , 1.0011497, 0.9913204]],\n",
      "\n",
      "        [[1.       , 1.0033386, 0.9874363]],\n",
      "\n",
      "        [[1.       , 1.       , 0.9795448]],\n",
      "\n",
      "        [[1.       , 1.0139147, 0.9819165]],\n",
      "\n",
      "        [[1.       , 1.0033453, 0.9937556]]]], dtype=float32), array([[[[1., 1., 1.]],\n",
      "\n",
      "        [[1., 1., 1.]],\n",
      "\n",
      "        [[1., 1., 1.]],\n",
      "\n",
      "        [[1., 1., 1.]],\n",
      "\n",
      "        [[1., 1., 1.]]]], dtype=float32)]\n"
     ]
    }
   ],
   "source": [
    "# print(len(stock_env.states))\n",
    "print(stock_env.states)"
   ]
  },
  {
   "cell_type": "code",
   "execution_count": 48,
   "metadata": {
    "scrolled": true
   },
   "outputs": [
    {
     "data": {
      "text/html": [
       "<div>\n",
       "<style scoped>\n",
       "    .dataframe tbody tr th:only-of-type {\n",
       "        vertical-align: middle;\n",
       "    }\n",
       "\n",
       "    .dataframe tbody tr th {\n",
       "        vertical-align: top;\n",
       "    }\n",
       "\n",
       "    .dataframe thead th {\n",
       "        text-align: right;\n",
       "    }\n",
       "</style>\n",
       "<table border=\"1\" class=\"dataframe\">\n",
       "  <thead>\n",
       "    <tr style=\"text-align: right;\">\n",
       "      <th></th>\n",
       "      <th>close</th>\n",
       "      <th>high</th>\n",
       "      <th>low</th>\n",
       "    </tr>\n",
       "  </thead>\n",
       "  <tbody>\n",
       "    <tr>\n",
       "      <th>2017-12-12</th>\n",
       "      <td>0.986952</td>\n",
       "      <td>0.990918</td>\n",
       "      <td>0.985572</td>\n",
       "    </tr>\n",
       "    <tr>\n",
       "      <th>2017-12-13</th>\n",
       "      <td>0.990228</td>\n",
       "      <td>0.997528</td>\n",
       "      <td>0.988676</td>\n",
       "    </tr>\n",
       "    <tr>\n",
       "      <th>2017-12-14</th>\n",
       "      <td>0.989941</td>\n",
       "      <td>0.995172</td>\n",
       "      <td>0.986664</td>\n",
       "    </tr>\n",
       "    <tr>\n",
       "      <th>2017-12-15</th>\n",
       "      <td>1.000000</td>\n",
       "      <td>1.001150</td>\n",
       "      <td>0.991320</td>\n",
       "    </tr>\n",
       "    <tr>\n",
       "      <th>2017-12-16</th>\n",
       "      <td>1.000000</td>\n",
       "      <td>1.000000</td>\n",
       "      <td>1.000000</td>\n",
       "    </tr>\n",
       "  </tbody>\n",
       "</table>\n",
       "</div>"
      ],
      "text/plain": [
       "               close      high       low\n",
       "2017-12-12  0.986952  0.990918  0.985572\n",
       "2017-12-13  0.990228  0.997528  0.988676\n",
       "2017-12-14  0.989941  0.995172  0.986664\n",
       "2017-12-15  1.000000  1.001150  0.991320\n",
       "2017-12-16  1.000000  1.000000  1.000000"
      ]
     },
     "execution_count": 48,
     "metadata": {},
     "output_type": "execute_result"
    }
   ],
   "source": [
    "stock_env.asset_dict[\"AAPL\"]"
   ]
  },
  {
   "cell_type": "code",
   "execution_count": 49,
   "metadata": {},
   "outputs": [
    {
     "data": {
      "text/html": [
       "<div>\n",
       "<style scoped>\n",
       "    .dataframe tbody tr th:only-of-type {\n",
       "        vertical-align: middle;\n",
       "    }\n",
       "\n",
       "    .dataframe tbody tr th {\n",
       "        vertical-align: top;\n",
       "    }\n",
       "\n",
       "    .dataframe thead th {\n",
       "        text-align: right;\n",
       "    }\n",
       "</style>\n",
       "<table border=\"1\" class=\"dataframe\">\n",
       "  <thead>\n",
       "    <tr style=\"text-align: right;\">\n",
       "      <th></th>\n",
       "      <th>close</th>\n",
       "      <th>high</th>\n",
       "      <th>low</th>\n",
       "    </tr>\n",
       "  </thead>\n",
       "  <tbody>\n",
       "    <tr>\n",
       "      <th>2017-12-12</th>\n",
       "      <td>0.996837</td>\n",
       "      <td>0.999209</td>\n",
       "      <td>0.984010</td>\n",
       "    </tr>\n",
       "    <tr>\n",
       "      <th>2017-12-13</th>\n",
       "      <td>0.995519</td>\n",
       "      <td>1.004832</td>\n",
       "      <td>0.994465</td>\n",
       "    </tr>\n",
       "    <tr>\n",
       "      <th>2017-12-14</th>\n",
       "      <td>0.992093</td>\n",
       "      <td>1.002372</td>\n",
       "      <td>0.992093</td>\n",
       "    </tr>\n",
       "    <tr>\n",
       "      <th>2017-12-15</th>\n",
       "      <td>1.000000</td>\n",
       "      <td>1.003339</td>\n",
       "      <td>0.987436</td>\n",
       "    </tr>\n",
       "    <tr>\n",
       "      <th>2017-12-16</th>\n",
       "      <td>1.000000</td>\n",
       "      <td>1.000000</td>\n",
       "      <td>1.000000</td>\n",
       "    </tr>\n",
       "  </tbody>\n",
       "</table>\n",
       "</div>"
      ],
      "text/plain": [
       "               close      high       low\n",
       "2017-12-12  0.996837  0.999209  0.984010\n",
       "2017-12-13  0.995519  1.004832  0.994465\n",
       "2017-12-14  0.992093  1.002372  0.992093\n",
       "2017-12-15  1.000000  1.003339  0.987436\n",
       "2017-12-16  1.000000  1.000000  1.000000"
      ]
     },
     "execution_count": 49,
     "metadata": {},
     "output_type": "execute_result"
    }
   ],
   "source": [
    "stock_env.asset_dict[\"V\"]"
   ]
  },
  {
   "cell_type": "code",
   "execution_count": 50,
   "metadata": {},
   "outputs": [
    {
     "data": {
      "text/plain": [
       "array([[1.        , 1.0033197 , 0.99867797, 1.0104787 , 1.0248638 ,\n",
       "        1.0004481 ],\n",
       "       [1.        , 0.9997098 , 0.9965581 , 0.97325325, 0.9896511 ,\n",
       "        0.9955207 ],\n",
       "       [1.        , 1.0101614 , 1.0079702 , 1.0104804 , 1.0143429 ,\n",
       "        1.0087739 ],\n",
       "       [1.        , 1.        , 1.        , 1.        , 1.        ,\n",
       "        1.        ]], dtype=float32)"
      ]
     },
     "execution_count": 50,
     "metadata": {},
     "output_type": "execute_result"
    }
   ],
   "source": [
    "stock_env.price_change_ratios"
   ]
  },
  {
   "cell_type": "code",
   "execution_count": 51,
   "metadata": {},
   "outputs": [
    {
     "data": {
      "text/plain": [
       "[array([[[[0.98695177, 0.990918  , 0.9855722 ]],\n",
       " \n",
       "         [[0.99683714, 0.9992093 , 0.98400986]],\n",
       " \n",
       "         [[1.0062807 , 1.0265629 , 1.0012677 ]],\n",
       " \n",
       "         [[0.97200155, 0.9809588 , 0.9601149 ]],\n",
       " \n",
       "         [[0.9953167 , 0.99754685, 0.9895183 ]]]], dtype=float32),\n",
       " array([[[[0.9902282 , 0.9975283 , 0.9886762 ]],\n",
       " \n",
       "         [[0.9955192 , 1.0048321 , 0.99446493]],\n",
       " \n",
       "         [[1.0168251 , 1.0239124 , 1.0043216 ]],\n",
       " \n",
       "         [[0.9961692 , 0.999493  , 0.9762267 ]],\n",
       " \n",
       "         [[0.9957627 , 0.9973238 , 0.9930865 ]]]], dtype=float32),\n",
       " array([[[[0.9899408 , 0.9951716 , 0.98666435]],\n",
       " \n",
       "         [[0.9920928 , 1.0023721 , 0.9920928 ]],\n",
       " \n",
       "         [[0.9896284 , 0.9990781 , 0.9772976 ]],\n",
       " \n",
       "         [[0.98585993, 1.0068165 , 0.9857473 ]],\n",
       " \n",
       "         [[0.99130243, 0.99776983, 0.99130243]]]], dtype=float32),\n",
       " array([[[[1.       , 1.0011497, 0.9913204]],\n",
       " \n",
       "         [[1.       , 1.0033386, 0.9874363]],\n",
       " \n",
       "         [[1.       , 1.       , 0.9795448]],\n",
       " \n",
       "         [[1.       , 1.0139147, 0.9819165]],\n",
       " \n",
       "         [[1.       , 1.0033453, 0.9937556]]]], dtype=float32),\n",
       " array([[[[1., 1., 1.]],\n",
       " \n",
       "         [[1., 1., 1.]],\n",
       " \n",
       "         [[1., 1., 1.]],\n",
       " \n",
       "         [[1., 1., 1.]],\n",
       " \n",
       "         [[1., 1., 1.]]]], dtype=float32)]"
      ]
     },
     "execution_count": 51,
     "metadata": {},
     "output_type": "execute_result"
    }
   ],
   "source": [
    "stock_env.states"
   ]
  },
  {
   "cell_type": "code",
   "execution_count": 52,
   "metadata": {
    "scrolled": true
   },
   "outputs": [],
   "source": [
    "state0 = stock_env.reset()"
   ]
  },
  {
   "cell_type": "code",
   "execution_count": 53,
   "metadata": {},
   "outputs": [
    {
     "data": {
      "text/plain": [
       "array([[[[0.98695177, 0.990918  , 0.9855722 ]],\n",
       "\n",
       "        [[0.99683714, 0.9992093 , 0.98400986]],\n",
       "\n",
       "        [[1.0062807 , 1.0265629 , 1.0012677 ]],\n",
       "\n",
       "        [[0.97200155, 0.9809588 , 0.9601149 ]],\n",
       "\n",
       "        [[0.9953167 , 0.99754685, 0.9895183 ]]]], dtype=float32)"
      ]
     },
     "execution_count": 53,
     "metadata": {},
     "output_type": "execute_result"
    }
   ],
   "source": [
    "state0"
   ]
  },
  {
   "cell_type": "code",
   "execution_count": 54,
   "metadata": {},
   "outputs": [
    {
     "name": "stdout",
     "output_type": "stream",
     "text": [
      "We are at date 2017-12-12\n",
      "allocation of portfolio at the end of prev date: [1. 0. 0. 0. 0. 0.]\n"
     ]
    }
   ],
   "source": [
    "stock_env.render()"
   ]
  },
  {
   "cell_type": "code",
   "execution_count": 55,
   "metadata": {},
   "outputs": [
    {
     "data": {
      "text/plain": [
       "array([0., 1., 0., 0., 0., 0.], dtype=float32)"
      ]
     },
     "execution_count": 55,
     "metadata": {},
     "output_type": "execute_result"
    }
   ],
   "source": [
    "action = np.array([0, 1, 0, 0, 0, 0], dtype=\"float32\")\n",
    "action"
   ]
  },
  {
   "cell_type": "code",
   "execution_count": 62,
   "metadata": {
    "scrolled": false
   },
   "outputs": [
    {
     "name": "stdout",
     "output_type": "stream",
     "text": [
      " ------------------------ step 0----------------------------\n",
      "Time step before taking action: 0\n",
      "stock price change after the action: [1.         1.0033197  0.99867797 1.0104787  1.0248638  1.0004481 ]\n",
      "transaction cost: 0.0025\n",
      "test: 1.0033197402954102 \n",
      "reward before log: 1.0008197402954102\n",
      "[[[[0.9902282  0.9975283  0.9886762 ]]\n",
      "\n",
      "  [[0.9955192  1.0048321  0.99446493]]\n",
      "\n",
      "  [[1.0168251  1.0239124  1.0043216 ]]\n",
      "\n",
      "  [[0.9961692  0.999493   0.9762267 ]]\n",
      "\n",
      "  [[0.9957627  0.9973238  0.9930865 ]]]]\n",
      "receive reward: 0.0008194044918361998\n",
      "done: False\n",
      " ------------------------ step 1----------------------------\n",
      "Time step before taking action: 1\n",
      "stock price change after the action: [1.         0.9997098  0.9965581  0.97325325 0.9896511  0.9955207 ]\n",
      "transaction cost: 0.0025\n",
      "test: 0.9997097849845886 \n",
      "reward before log: 0.9972097849845887\n",
      "[[[[0.9899408  0.9951716  0.98666435]]\n",
      "\n",
      "  [[0.9920928  1.0023721  0.9920928 ]]\n",
      "\n",
      "  [[0.9896284  0.9990781  0.9772976 ]]\n",
      "\n",
      "  [[0.98585993 1.0068165  0.9857473 ]]\n",
      "\n",
      "  [[0.99130243 0.99776983 0.99130243]]]]\n",
      "receive reward: -0.0027941149214008934\n",
      "done: False\n",
      " ------------------------ step 2----------------------------\n",
      "Time step before taking action: 2\n",
      "stock price change after the action: [1.        1.0101614 1.0079702 1.0104804 1.0143429 1.0087739]\n",
      "transaction cost: 0.0025\n",
      "test: 1.0101613998413086 \n",
      "reward before log: 1.0076613998413086\n",
      "[[[[1.        1.0011497 0.9913204]]\n",
      "\n",
      "  [[1.        1.0033386 0.9874363]]\n",
      "\n",
      "  [[1.        1.        0.9795448]]\n",
      "\n",
      "  [[1.        1.0139147 0.9819165]]\n",
      "\n",
      "  [[1.        1.0033453 0.9937556]]]]\n",
      "receive reward: 0.0076322003619712165\n",
      "done: False\n",
      " ------------------------ step 3----------------------------\n",
      "Time step before taking action: 3\n",
      "stock price change after the action: [1. 1. 1. 1. 1. 1.]\n",
      "transaction cost: 0.0025\n",
      "test: 1.0 \n",
      "reward before log: 0.9975\n",
      "[[[[1. 1. 1.]]\n",
      "\n",
      "  [[1. 1. 1.]]\n",
      "\n",
      "  [[1. 1. 1.]]\n",
      "\n",
      "  [[1. 1. 1.]]\n",
      "\n",
      "  [[1. 1. 1.]]]]\n",
      "receive reward: -0.002503130218118477\n",
      "done: True\n"
     ]
    }
   ],
   "source": [
    "done = False\n",
    "step = 0\n",
    "stock_env.reset()\n",
    "while done is False:\n",
    "    print(f' ------------------------ step {step}----------------------------')\n",
    "    print(f'Time step before taking action: {stock_env.t}')\n",
    "    reward, done, nxt_state = stock_env.step(action)\n",
    "    print(nxt_state)\n",
    "    print(f'receive reward: {reward}')\n",
    "    print(f\"done: {done}\")\n",
    "    step += 1\n"
   ]
  },
  {
   "cell_type": "code",
   "execution_count": 61,
   "metadata": {},
   "outputs": [
    {
     "data": {
      "text/plain": [
       "0.0008194044918361998"
      ]
     },
     "execution_count": 61,
     "metadata": {},
     "output_type": "execute_result"
    }
   ],
   "source": [
    "np.log(1.0008197402954102)"
   ]
  },
  {
   "cell_type": "code",
   "execution_count": null,
   "metadata": {
    "scrolled": true
   },
   "outputs": [],
   "source": []
  },
  {
   "cell_type": "code",
   "execution_count": null,
   "metadata": {},
   "outputs": [],
   "source": []
  },
  {
   "cell_type": "code",
   "execution_count": null,
   "metadata": {},
   "outputs": [],
   "source": []
  },
  {
   "cell_type": "code",
   "execution_count": null,
   "metadata": {
    "scrolled": true
   },
   "outputs": [],
   "source": []
  },
  {
   "cell_type": "code",
   "execution_count": null,
   "metadata": {},
   "outputs": [],
   "source": []
  },
  {
   "cell_type": "code",
   "execution_count": null,
   "metadata": {},
   "outputs": [],
   "source": []
  },
  {
   "cell_type": "code",
   "execution_count": null,
   "metadata": {},
   "outputs": [],
   "source": []
  },
  {
   "cell_type": "code",
   "execution_count": null,
   "metadata": {},
   "outputs": [],
   "source": []
  },
  {
   "cell_type": "code",
   "execution_count": null,
   "metadata": {},
   "outputs": [],
   "source": []
  },
  {
   "cell_type": "code",
   "execution_count": null,
   "metadata": {},
   "outputs": [],
   "source": []
  }
 ],
 "metadata": {
  "kernelspec": {
   "display_name": "ddpg",
   "language": "python",
   "name": "ddpg"
  },
  "language_info": {
   "codemirror_mode": {
    "name": "ipython",
    "version": 3
   },
   "file_extension": ".py",
   "mimetype": "text/x-python",
   "name": "python",
   "nbconvert_exporter": "python",
   "pygments_lexer": "ipython3",
   "version": "3.6.7"
  }
 },
 "nbformat": 4,
 "nbformat_minor": 2
}
