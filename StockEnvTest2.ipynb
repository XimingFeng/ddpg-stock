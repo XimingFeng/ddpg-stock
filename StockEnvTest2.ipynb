{
 "cells": [
  {
   "cell_type": "code",
   "execution_count": 1,
   "metadata": {},
   "outputs": [],
   "source": [
    "from stock_env import StockEnv\n",
    "import pandas as pd\n",
    "import numpy as np\n",
    "\n",
    "%load_ext autoreload\n",
    "%autoreload 2"
   ]
  },
  {
   "cell_type": "code",
   "execution_count": 33,
   "metadata": {},
   "outputs": [],
   "source": [
    "env_args = {\n",
    "    \"asset_codes\": ['AAPL', 'V', 'BABA', 'ADBE', 'SNE'],\n",
    "    \"features\": [\"close\", \"high\", \"low\"],\n",
    "    \"start_date\": \"2017-12-12\",\n",
    "    \"end_date\": \"2017-12-15\", \n",
    "    \"window_len\": 1,\n",
    "    \"data_path\": \"AmericaStock.csv\"\n",
    "}"
   ]
  },
  {
   "cell_type": "code",
   "execution_count": 34,
   "metadata": {},
   "outputs": [],
   "source": [
    "stock_env = StockEnv(**env_args)"
   ]
  },
  {
   "cell_type": "code",
   "execution_count": 35,
   "metadata": {},
   "outputs": [
    {
     "data": {
      "text/html": [
       "<div>\n",
       "<style scoped>\n",
       "    .dataframe tbody tr th:only-of-type {\n",
       "        vertical-align: middle;\n",
       "    }\n",
       "\n",
       "    .dataframe tbody tr th {\n",
       "        vertical-align: top;\n",
       "    }\n",
       "\n",
       "    .dataframe thead th {\n",
       "        text-align: right;\n",
       "    }\n",
       "</style>\n",
       "<table border=\"1\" class=\"dataframe\">\n",
       "  <thead>\n",
       "    <tr style=\"text-align: right;\">\n",
       "      <th></th>\n",
       "      <th>close</th>\n",
       "      <th>high</th>\n",
       "      <th>low</th>\n",
       "    </tr>\n",
       "  </thead>\n",
       "  <tbody>\n",
       "    <tr>\n",
       "      <th>2017-12-12</th>\n",
       "      <td>0.986952</td>\n",
       "      <td>0.990918</td>\n",
       "      <td>0.985572</td>\n",
       "    </tr>\n",
       "    <tr>\n",
       "      <th>2017-12-13</th>\n",
       "      <td>0.990228</td>\n",
       "      <td>0.997528</td>\n",
       "      <td>0.988676</td>\n",
       "    </tr>\n",
       "    <tr>\n",
       "      <th>2017-12-14</th>\n",
       "      <td>0.989941</td>\n",
       "      <td>0.995172</td>\n",
       "      <td>0.986664</td>\n",
       "    </tr>\n",
       "    <tr>\n",
       "      <th>2017-12-15</th>\n",
       "      <td>1.000000</td>\n",
       "      <td>1.001150</td>\n",
       "      <td>0.991320</td>\n",
       "    </tr>\n",
       "  </tbody>\n",
       "</table>\n",
       "</div>"
      ],
      "text/plain": [
       "               close      high       low\n",
       "2017-12-12  0.986952  0.990918  0.985572\n",
       "2017-12-13  0.990228  0.997528  0.988676\n",
       "2017-12-14  0.989941  0.995172  0.986664\n",
       "2017-12-15  1.000000  1.001150  0.991320"
      ]
     },
     "execution_count": 35,
     "metadata": {},
     "output_type": "execute_result"
    }
   ],
   "source": [
    "stock_env.asset_dict[\"AAPL\"]"
   ]
  },
  {
   "cell_type": "code",
   "execution_count": 36,
   "metadata": {},
   "outputs": [
    {
     "data": {
      "text/html": [
       "<div>\n",
       "<style scoped>\n",
       "    .dataframe tbody tr th:only-of-type {\n",
       "        vertical-align: middle;\n",
       "    }\n",
       "\n",
       "    .dataframe tbody tr th {\n",
       "        vertical-align: top;\n",
       "    }\n",
       "\n",
       "    .dataframe thead th {\n",
       "        text-align: right;\n",
       "    }\n",
       "</style>\n",
       "<table border=\"1\" class=\"dataframe\">\n",
       "  <thead>\n",
       "    <tr style=\"text-align: right;\">\n",
       "      <th></th>\n",
       "      <th>close</th>\n",
       "      <th>high</th>\n",
       "      <th>low</th>\n",
       "    </tr>\n",
       "  </thead>\n",
       "  <tbody>\n",
       "    <tr>\n",
       "      <th>2017-12-12</th>\n",
       "      <td>0.996837</td>\n",
       "      <td>0.999209</td>\n",
       "      <td>0.984010</td>\n",
       "    </tr>\n",
       "    <tr>\n",
       "      <th>2017-12-13</th>\n",
       "      <td>0.995519</td>\n",
       "      <td>1.004832</td>\n",
       "      <td>0.994465</td>\n",
       "    </tr>\n",
       "    <tr>\n",
       "      <th>2017-12-14</th>\n",
       "      <td>0.992093</td>\n",
       "      <td>1.002372</td>\n",
       "      <td>0.992093</td>\n",
       "    </tr>\n",
       "    <tr>\n",
       "      <th>2017-12-15</th>\n",
       "      <td>1.000000</td>\n",
       "      <td>1.003339</td>\n",
       "      <td>0.987436</td>\n",
       "    </tr>\n",
       "  </tbody>\n",
       "</table>\n",
       "</div>"
      ],
      "text/plain": [
       "               close      high       low\n",
       "2017-12-12  0.996837  0.999209  0.984010\n",
       "2017-12-13  0.995519  1.004832  0.994465\n",
       "2017-12-14  0.992093  1.002372  0.992093\n",
       "2017-12-15  1.000000  1.003339  0.987436"
      ]
     },
     "execution_count": 36,
     "metadata": {},
     "output_type": "execute_result"
    }
   ],
   "source": [
    "stock_env.asset_dict[\"V\"]"
   ]
  },
  {
   "cell_type": "code",
   "execution_count": 37,
   "metadata": {},
   "outputs": [
    {
     "data": {
      "text/plain": [
       "array([[1.        , 1.00331974, 0.99867795, 1.0104787 , 1.0248638 ,\n",
       "        1.00044813],\n",
       "       [1.        , 0.99970976, 0.99655811, 0.97325324, 0.98965108,\n",
       "        0.99552072],\n",
       "       [1.        , 1.01016142, 1.00797024, 1.01048035, 1.01434286,\n",
       "        1.0087739 ]])"
      ]
     },
     "execution_count": 37,
     "metadata": {},
     "output_type": "execute_result"
    }
   ],
   "source": [
    "stock_env.price_change_ratios"
   ]
  },
  {
   "cell_type": "code",
   "execution_count": 38,
   "metadata": {},
   "outputs": [
    {
     "data": {
      "text/plain": [
       "[array([[[0.98695177, 0.99091797, 0.98557223]],\n",
       " \n",
       "        [[0.99683711, 0.99920928, 0.98400984]],\n",
       " \n",
       "        [[1.00628061, 1.02656295, 1.00126765]],\n",
       " \n",
       "        [[0.97200158, 0.98095882, 0.96011492]],\n",
       " \n",
       "        [[0.99531668, 0.99754683, 0.98951829]]]),\n",
       " array([[[0.9902282 , 0.99752831, 0.98867621]],\n",
       " \n",
       "        [[0.99551924, 1.00483219, 0.99446494]],\n",
       " \n",
       "        [[1.01682512, 1.02391242, 1.00432152]],\n",
       " \n",
       "        [[0.99616923, 0.99949299, 0.97622669]],\n",
       " \n",
       "        [[0.99576271, 0.99732382, 0.99308653]]]),\n",
       " array([[[0.98994079, 0.99517158, 0.98666437]],\n",
       " \n",
       "        [[0.99209278, 1.00237217, 0.99209278]],\n",
       " \n",
       "        [[0.98962835, 0.99907808, 0.97729761]],\n",
       " \n",
       "        [[0.98585995, 1.00681652, 0.98574728]],\n",
       " \n",
       "        [[0.99130241, 0.99776985, 0.99130241]]])]"
      ]
     },
     "execution_count": 38,
     "metadata": {},
     "output_type": "execute_result"
    }
   ],
   "source": [
    "stock_env.states"
   ]
  },
  {
   "cell_type": "code",
   "execution_count": 6,
   "metadata": {
    "scrolled": true
   },
   "outputs": [],
   "source": [
    "state0 = stock_env.reset()"
   ]
  },
  {
   "cell_type": "code",
   "execution_count": 7,
   "metadata": {},
   "outputs": [
    {
     "data": {
      "text/plain": [
       "array([[[0.98695177, 0.99091797, 0.98557223],\n",
       "        [0.9902282 , 0.99752831, 0.98867621]],\n",
       "\n",
       "       [[0.99683711, 0.99920928, 0.98400984],\n",
       "        [0.99551924, 1.00483219, 0.99446494]],\n",
       "\n",
       "       [[1.00628061, 1.02656295, 1.00126765],\n",
       "        [1.01682512, 1.02391242, 1.00432152]],\n",
       "\n",
       "       [[0.97200158, 0.98095882, 0.96011492],\n",
       "        [0.99616923, 0.99949299, 0.97622669]],\n",
       "\n",
       "       [[0.99531668, 0.99754683, 0.98951829],\n",
       "        [0.99576271, 0.99732382, 0.99308653]]])"
      ]
     },
     "execution_count": 7,
     "metadata": {},
     "output_type": "execute_result"
    }
   ],
   "source": [
    "state0"
   ]
  },
  {
   "cell_type": "code",
   "execution_count": 8,
   "metadata": {},
   "outputs": [
    {
     "name": "stdout",
     "output_type": "stream",
     "text": [
      "We are at date 2017-12-14\n",
      "allocation of portfolio at the end of prev date: [1. 0. 0. 0. 0. 0.]\n"
     ]
    }
   ],
   "source": [
    "stock_env.render()"
   ]
  },
  {
   "cell_type": "code",
   "execution_count": 11,
   "metadata": {},
   "outputs": [],
   "source": [
    "action1 = np.array([0, 1, 0, 0, 0, 0])\n",
    "action2 = np.array([0, 0, 1, 0, 0, 0])"
   ]
  },
  {
   "cell_type": "code",
   "execution_count": 14,
   "metadata": {},
   "outputs": [
    {
     "name": "stdout",
     "output_type": "stream",
     "text": [
      "price change ratio of today is [1.         0.99970976 0.99655811 0.97325324 0.98965108 0.99552072]\n",
      "Transaction cost is 0.0025\n"
     ]
    }
   ],
   "source": [
    "state0 = stock_env.reset()\n",
    "stock_env.step(action1)"
   ]
  },
  {
   "cell_type": "code",
   "execution_count": 120,
   "metadata": {},
   "outputs": [
    {
     "name": "stdout",
     "output_type": "stream",
     "text": [
      "We are at date 2017-12-15\n",
      "allocation of portfolio at the end of prev date: [0. 1. 0. 0. 0. 0.]\n"
     ]
    }
   ],
   "source": [
    "stock_env.render()"
   ]
  },
  {
   "cell_type": "code",
   "execution_count": 121,
   "metadata": {},
   "outputs": [
    {
     "data": {
      "text/plain": [
       "array([        nan, -0.00279414,         nan,         nan,         nan,\n",
       "               nan])"
      ]
     },
     "execution_count": 121,
     "metadata": {},
     "output_type": "execute_result"
    }
   ],
   "source": [
    "reward2"
   ]
  },
  {
   "cell_type": "code",
   "execution_count": null,
   "metadata": {},
   "outputs": [],
   "source": []
  }
 ],
 "metadata": {
  "kernelspec": {
   "display_name": "ddpg",
   "language": "python",
   "name": "ddpg"
  },
  "language_info": {
   "codemirror_mode": {
    "name": "ipython",
    "version": 3
   },
   "file_extension": ".py",
   "mimetype": "text/x-python",
   "name": "python",
   "nbconvert_exporter": "python",
   "pygments_lexer": "ipython3",
   "version": "3.6.7"
  }
 },
 "nbformat": 4,
 "nbformat_minor": 2
}
