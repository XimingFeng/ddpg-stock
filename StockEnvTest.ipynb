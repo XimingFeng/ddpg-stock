{
 "cells": [
  {
   "cell_type": "code",
   "execution_count": 1,
   "metadata": {},
   "outputs": [],
   "source": [
    "import pandas as pd"
   ]
  },
  {
   "cell_type": "code",
   "execution_count": 12,
   "metadata": {},
   "outputs": [],
   "source": [
    "df = pd.read_csv('AmericaStock.csv')"
   ]
  },
  {
   "cell_type": "code",
   "execution_count": 13,
   "metadata": {},
   "outputs": [
    {
     "data": {
      "text/html": [
       "<div>\n",
       "<style scoped>\n",
       "    .dataframe tbody tr th:only-of-type {\n",
       "        vertical-align: middle;\n",
       "    }\n",
       "\n",
       "    .dataframe tbody tr th {\n",
       "        vertical-align: top;\n",
       "    }\n",
       "\n",
       "    .dataframe thead th {\n",
       "        text-align: right;\n",
       "    }\n",
       "</style>\n",
       "<table border=\"1\" class=\"dataframe\">\n",
       "  <thead>\n",
       "    <tr style=\"text-align: right;\">\n",
       "      <th></th>\n",
       "      <th>time</th>\n",
       "      <th>close</th>\n",
       "      <th>open</th>\n",
       "      <th>high</th>\n",
       "      <th>low</th>\n",
       "      <th>volume</th>\n",
       "      <th>percent</th>\n",
       "      <th>code</th>\n",
       "    </tr>\n",
       "  </thead>\n",
       "  <tbody>\n",
       "    <tr>\n",
       "      <th>0</th>\n",
       "      <td>Jan 05, 2015</td>\n",
       "      <td>106.25</td>\n",
       "      <td>108.29</td>\n",
       "      <td>108.65</td>\n",
       "      <td>105.41</td>\n",
       "      <td>64.29M</td>\n",
       "      <td>-2.82%</td>\n",
       "      <td>AAPL</td>\n",
       "    </tr>\n",
       "    <tr>\n",
       "      <th>1</th>\n",
       "      <td>Jan 06, 2015</td>\n",
       "      <td>106.26</td>\n",
       "      <td>106.54</td>\n",
       "      <td>107.43</td>\n",
       "      <td>104.63</td>\n",
       "      <td>65.80M</td>\n",
       "      <td>0.01%</td>\n",
       "      <td>AAPL</td>\n",
       "    </tr>\n",
       "    <tr>\n",
       "      <th>2</th>\n",
       "      <td>Jan 07, 2015</td>\n",
       "      <td>107.75</td>\n",
       "      <td>107.20</td>\n",
       "      <td>108.20</td>\n",
       "      <td>106.69</td>\n",
       "      <td>40.11M</td>\n",
       "      <td>1.40%</td>\n",
       "      <td>AAPL</td>\n",
       "    </tr>\n",
       "    <tr>\n",
       "      <th>3</th>\n",
       "      <td>Jan 08, 2015</td>\n",
       "      <td>111.89</td>\n",
       "      <td>109.23</td>\n",
       "      <td>112.15</td>\n",
       "      <td>108.70</td>\n",
       "      <td>59.36M</td>\n",
       "      <td>3.84%</td>\n",
       "      <td>AAPL</td>\n",
       "    </tr>\n",
       "    <tr>\n",
       "      <th>4</th>\n",
       "      <td>Jan 09, 2015</td>\n",
       "      <td>112.01</td>\n",
       "      <td>112.67</td>\n",
       "      <td>113.25</td>\n",
       "      <td>110.21</td>\n",
       "      <td>53.70M</td>\n",
       "      <td>0.11%</td>\n",
       "      <td>AAPL</td>\n",
       "    </tr>\n",
       "  </tbody>\n",
       "</table>\n",
       "</div>"
      ],
      "text/plain": [
       "           time   close    open    high     low  volume percent  code\n",
       "0  Jan 05, 2015  106.25  108.29  108.65  105.41  64.29M  -2.82%  AAPL\n",
       "1  Jan 06, 2015  106.26  106.54  107.43  104.63  65.80M   0.01%  AAPL\n",
       "2  Jan 07, 2015  107.75  107.20  108.20  106.69  40.11M   1.40%  AAPL\n",
       "3  Jan 08, 2015  111.89  109.23  112.15  108.70  59.36M   3.84%  AAPL\n",
       "4  Jan 09, 2015  112.01  112.67  113.25  110.21  53.70M   0.11%  AAPL"
      ]
     },
     "execution_count": 13,
     "metadata": {},
     "output_type": "execute_result"
    }
   ],
   "source": [
    "df.head()"
   ]
  },
  {
   "cell_type": "code",
   "execution_count": 14,
   "metadata": {},
   "outputs": [
    {
     "data": {
      "text/plain": [
       "array(['AAPL', 'V', 'BABA', 'ADBE', 'SNE'], dtype=object)"
      ]
     },
     "execution_count": 14,
     "metadata": {},
     "output_type": "execute_result"
    }
   ],
   "source": [
    "df['code'].unique()"
   ]
  },
  {
   "cell_type": "code",
   "execution_count": null,
   "metadata": {},
   "outputs": [],
   "source": []
  },
  {
   "cell_type": "code",
   "execution_count": null,
   "metadata": {},
   "outputs": [],
   "source": []
  },
  {
   "cell_type": "code",
   "execution_count": 15,
   "metadata": {},
   "outputs": [],
   "source": [
    "codes = ['AAPL', 'BABA']"
   ]
  },
  {
   "cell_type": "code",
   "execution_count": 24,
   "metadata": {},
   "outputs": [
    {
     "data": {
      "text/html": [
       "<div>\n",
       "<style scoped>\n",
       "    .dataframe tbody tr th:only-of-type {\n",
       "        vertical-align: middle;\n",
       "    }\n",
       "\n",
       "    .dataframe tbody tr th {\n",
       "        vertical-align: top;\n",
       "    }\n",
       "\n",
       "    .dataframe thead th {\n",
       "        text-align: right;\n",
       "    }\n",
       "</style>\n",
       "<table border=\"1\" class=\"dataframe\">\n",
       "  <thead>\n",
       "    <tr style=\"text-align: right;\">\n",
       "      <th></th>\n",
       "      <th>time</th>\n",
       "      <th>close</th>\n",
       "      <th>open</th>\n",
       "      <th>high</th>\n",
       "      <th>low</th>\n",
       "      <th>volume</th>\n",
       "      <th>percent</th>\n",
       "      <th>code</th>\n",
       "    </tr>\n",
       "  </thead>\n",
       "  <tbody>\n",
       "    <tr>\n",
       "      <th>0</th>\n",
       "      <td>Jan 05, 2015</td>\n",
       "      <td>106.25</td>\n",
       "      <td>108.29</td>\n",
       "      <td>108.65</td>\n",
       "      <td>105.41</td>\n",
       "      <td>64.29M</td>\n",
       "      <td>-2.82%</td>\n",
       "      <td>AAPL</td>\n",
       "    </tr>\n",
       "    <tr>\n",
       "      <th>1</th>\n",
       "      <td>Jan 06, 2015</td>\n",
       "      <td>106.26</td>\n",
       "      <td>106.54</td>\n",
       "      <td>107.43</td>\n",
       "      <td>104.63</td>\n",
       "      <td>65.80M</td>\n",
       "      <td>0.01%</td>\n",
       "      <td>AAPL</td>\n",
       "    </tr>\n",
       "    <tr>\n",
       "      <th>2</th>\n",
       "      <td>Jan 07, 2015</td>\n",
       "      <td>107.75</td>\n",
       "      <td>107.20</td>\n",
       "      <td>108.20</td>\n",
       "      <td>106.69</td>\n",
       "      <td>40.11M</td>\n",
       "      <td>1.40%</td>\n",
       "      <td>AAPL</td>\n",
       "    </tr>\n",
       "    <tr>\n",
       "      <th>3</th>\n",
       "      <td>Jan 08, 2015</td>\n",
       "      <td>111.89</td>\n",
       "      <td>109.23</td>\n",
       "      <td>112.15</td>\n",
       "      <td>108.70</td>\n",
       "      <td>59.36M</td>\n",
       "      <td>3.84%</td>\n",
       "      <td>AAPL</td>\n",
       "    </tr>\n",
       "    <tr>\n",
       "      <th>4</th>\n",
       "      <td>Jan 09, 2015</td>\n",
       "      <td>112.01</td>\n",
       "      <td>112.67</td>\n",
       "      <td>113.25</td>\n",
       "      <td>110.21</td>\n",
       "      <td>53.70M</td>\n",
       "      <td>0.11%</td>\n",
       "      <td>AAPL</td>\n",
       "    </tr>\n",
       "    <tr>\n",
       "      <th>...</th>\n",
       "      <td>...</td>\n",
       "      <td>...</td>\n",
       "      <td>...</td>\n",
       "      <td>...</td>\n",
       "      <td>...</td>\n",
       "      <td>...</td>\n",
       "      <td>...</td>\n",
       "      <td>...</td>\n",
       "    </tr>\n",
       "    <tr>\n",
       "      <th>2258</th>\n",
       "      <td>Dec 22, 2017</td>\n",
       "      <td>176.29</td>\n",
       "      <td>175.84</td>\n",
       "      <td>176.66</td>\n",
       "      <td>175.04</td>\n",
       "      <td>12.52M</td>\n",
       "      <td>0.55%</td>\n",
       "      <td>BABA</td>\n",
       "    </tr>\n",
       "    <tr>\n",
       "      <th>2259</th>\n",
       "      <td>Dec 26, 2017</td>\n",
       "      <td>172.33</td>\n",
       "      <td>174.55</td>\n",
       "      <td>175.15</td>\n",
       "      <td>171.73</td>\n",
       "      <td>12.91M</td>\n",
       "      <td>-2.25%</td>\n",
       "      <td>BABA</td>\n",
       "    </tr>\n",
       "    <tr>\n",
       "      <th>2260</th>\n",
       "      <td>Dec 27, 2017</td>\n",
       "      <td>172.97</td>\n",
       "      <td>172.29</td>\n",
       "      <td>173.87</td>\n",
       "      <td>171.73</td>\n",
       "      <td>10.15M</td>\n",
       "      <td>0.37%</td>\n",
       "      <td>BABA</td>\n",
       "    </tr>\n",
       "    <tr>\n",
       "      <th>2261</th>\n",
       "      <td>Dec 28, 2017</td>\n",
       "      <td>172.30</td>\n",
       "      <td>173.04</td>\n",
       "      <td>173.53</td>\n",
       "      <td>171.67</td>\n",
       "      <td>9.51M</td>\n",
       "      <td>-0.39%</td>\n",
       "      <td>BABA</td>\n",
       "    </tr>\n",
       "    <tr>\n",
       "      <th>2262</th>\n",
       "      <td>Dec 29, 2017</td>\n",
       "      <td>172.43</td>\n",
       "      <td>172.28</td>\n",
       "      <td>173.67</td>\n",
       "      <td>171.20</td>\n",
       "      <td>9.70M</td>\n",
       "      <td>0.08%</td>\n",
       "      <td>BABA</td>\n",
       "    </tr>\n",
       "  </tbody>\n",
       "</table>\n",
       "<p>1509 rows × 8 columns</p>\n",
       "</div>"
      ],
      "text/plain": [
       "              time   close    open    high     low  volume percent  code\n",
       "0     Jan 05, 2015  106.25  108.29  108.65  105.41  64.29M  -2.82%  AAPL\n",
       "1     Jan 06, 2015  106.26  106.54  107.43  104.63  65.80M   0.01%  AAPL\n",
       "2     Jan 07, 2015  107.75  107.20  108.20  106.69  40.11M   1.40%  AAPL\n",
       "3     Jan 08, 2015  111.89  109.23  112.15  108.70  59.36M   3.84%  AAPL\n",
       "4     Jan 09, 2015  112.01  112.67  113.25  110.21  53.70M   0.11%  AAPL\n",
       "...            ...     ...     ...     ...     ...     ...     ...   ...\n",
       "2258  Dec 22, 2017  176.29  175.84  176.66  175.04  12.52M   0.55%  BABA\n",
       "2259  Dec 26, 2017  172.33  174.55  175.15  171.73  12.91M  -2.25%  BABA\n",
       "2260  Dec 27, 2017  172.97  172.29  173.87  171.73  10.15M   0.37%  BABA\n",
       "2261  Dec 28, 2017  172.30  173.04  173.53  171.67   9.51M  -0.39%  BABA\n",
       "2262  Dec 29, 2017  172.43  172.28  173.67  171.20   9.70M   0.08%  BABA\n",
       "\n",
       "[1509 rows x 8 columns]"
      ]
     },
     "execution_count": 24,
     "metadata": {},
     "output_type": "execute_result"
    }
   ],
   "source": [
    "df[df['code'].isin(codes)]"
   ]
  },
  {
   "cell_type": "code",
   "execution_count": 25,
   "metadata": {},
   "outputs": [],
   "source": [
    "selected_data = df[df['code'].isin(codes)]"
   ]
  },
  {
   "cell_type": "code",
   "execution_count": 28,
   "metadata": {},
   "outputs": [
    {
     "name": "stdout",
     "output_type": "stream",
     "text": [
      "avaiable data for code AAPL: 755\n",
      "avaiable data for code BABA: 754\n"
     ]
    }
   ],
   "source": [
    "for code in codes:\n",
    "    asset_data_len = len(df[df['code'] == code])\n",
    "    print(f'avaiable data for code {code}: {asset_data_len}')"
   ]
  },
  {
   "cell_type": "code",
   "execution_count": null,
   "metadata": {},
   "outputs": [],
   "source": [
    "for code in codes:\n",
    "    date_set = date_set.intersection(idxs)"
   ]
  }
 ],
 "metadata": {
  "kernelspec": {
   "display_name": "ddpg",
   "language": "python",
   "name": "ddpg"
  },
  "language_info": {
   "codemirror_mode": {
    "name": "ipython",
    "version": 3
   },
   "file_extension": ".py",
   "mimetype": "text/x-python",
   "name": "python",
   "nbconvert_exporter": "python",
   "pygments_lexer": "ipython3",
   "version": "3.6.7"
  }
 },
 "nbformat": 4,
 "nbformat_minor": 4
}
