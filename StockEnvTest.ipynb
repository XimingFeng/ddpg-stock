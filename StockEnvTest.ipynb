{
 "cells": [
  {
   "cell_type": "code",
   "execution_count": 1,
   "metadata": {},
   "outputs": [],
   "source": [
    "import pandas as pd\n",
    "\n",
    "%load_ext autoreload\n",
    "%autoreload 2"
   ]
  },
  {
   "cell_type": "code",
   "execution_count": 2,
   "metadata": {},
   "outputs": [],
   "source": [
    "df = pd.read_csv('AmericaStock.csv')"
   ]
  },
  {
   "cell_type": "code",
   "execution_count": 3,
   "metadata": {},
   "outputs": [
    {
     "data": {
      "text/html": [
       "<div>\n",
       "<style scoped>\n",
       "    .dataframe tbody tr th:only-of-type {\n",
       "        vertical-align: middle;\n",
       "    }\n",
       "\n",
       "    .dataframe tbody tr th {\n",
       "        vertical-align: top;\n",
       "    }\n",
       "\n",
       "    .dataframe thead th {\n",
       "        text-align: right;\n",
       "    }\n",
       "</style>\n",
       "<table border=\"1\" class=\"dataframe\">\n",
       "  <thead>\n",
       "    <tr style=\"text-align: right;\">\n",
       "      <th></th>\n",
       "      <th>time</th>\n",
       "      <th>close</th>\n",
       "      <th>open</th>\n",
       "      <th>high</th>\n",
       "      <th>low</th>\n",
       "      <th>volume</th>\n",
       "      <th>percent</th>\n",
       "      <th>code</th>\n",
       "    </tr>\n",
       "  </thead>\n",
       "  <tbody>\n",
       "    <tr>\n",
       "      <th>0</th>\n",
       "      <td>Jan 05, 2015</td>\n",
       "      <td>106.25</td>\n",
       "      <td>108.29</td>\n",
       "      <td>108.65</td>\n",
       "      <td>105.41</td>\n",
       "      <td>64.29M</td>\n",
       "      <td>-2.82%</td>\n",
       "      <td>AAPL</td>\n",
       "    </tr>\n",
       "    <tr>\n",
       "      <th>1</th>\n",
       "      <td>Jan 06, 2015</td>\n",
       "      <td>106.26</td>\n",
       "      <td>106.54</td>\n",
       "      <td>107.43</td>\n",
       "      <td>104.63</td>\n",
       "      <td>65.80M</td>\n",
       "      <td>0.01%</td>\n",
       "      <td>AAPL</td>\n",
       "    </tr>\n",
       "    <tr>\n",
       "      <th>2</th>\n",
       "      <td>Jan 07, 2015</td>\n",
       "      <td>107.75</td>\n",
       "      <td>107.20</td>\n",
       "      <td>108.20</td>\n",
       "      <td>106.69</td>\n",
       "      <td>40.11M</td>\n",
       "      <td>1.40%</td>\n",
       "      <td>AAPL</td>\n",
       "    </tr>\n",
       "    <tr>\n",
       "      <th>3</th>\n",
       "      <td>Jan 08, 2015</td>\n",
       "      <td>111.89</td>\n",
       "      <td>109.23</td>\n",
       "      <td>112.15</td>\n",
       "      <td>108.70</td>\n",
       "      <td>59.36M</td>\n",
       "      <td>3.84%</td>\n",
       "      <td>AAPL</td>\n",
       "    </tr>\n",
       "    <tr>\n",
       "      <th>4</th>\n",
       "      <td>Jan 09, 2015</td>\n",
       "      <td>112.01</td>\n",
       "      <td>112.67</td>\n",
       "      <td>113.25</td>\n",
       "      <td>110.21</td>\n",
       "      <td>53.70M</td>\n",
       "      <td>0.11%</td>\n",
       "      <td>AAPL</td>\n",
       "    </tr>\n",
       "  </tbody>\n",
       "</table>\n",
       "</div>"
      ],
      "text/plain": [
       "           time   close    open    high     low  volume percent  code\n",
       "0  Jan 05, 2015  106.25  108.29  108.65  105.41  64.29M  -2.82%  AAPL\n",
       "1  Jan 06, 2015  106.26  106.54  107.43  104.63  65.80M   0.01%  AAPL\n",
       "2  Jan 07, 2015  107.75  107.20  108.20  106.69  40.11M   1.40%  AAPL\n",
       "3  Jan 08, 2015  111.89  109.23  112.15  108.70  59.36M   3.84%  AAPL\n",
       "4  Jan 09, 2015  112.01  112.67  113.25  110.21  53.70M   0.11%  AAPL"
      ]
     },
     "execution_count": 3,
     "metadata": {},
     "output_type": "execute_result"
    }
   ],
   "source": [
    "df.head()"
   ]
  },
  {
   "cell_type": "code",
   "execution_count": 4,
   "metadata": {},
   "outputs": [
    {
     "data": {
      "text/plain": [
       "array(['AAPL', 'V', 'BABA', 'ADBE', 'SNE'], dtype=object)"
      ]
     },
     "execution_count": 4,
     "metadata": {},
     "output_type": "execute_result"
    }
   ],
   "source": [
    "df['code'].unique()"
   ]
  },
  {
   "cell_type": "code",
   "execution_count": null,
   "metadata": {},
   "outputs": [],
   "source": []
  },
  {
   "cell_type": "code",
   "execution_count": null,
   "metadata": {},
   "outputs": [],
   "source": []
  },
  {
   "cell_type": "code",
   "execution_count": 5,
   "metadata": {},
   "outputs": [],
   "source": [
    "codes = ['AAPL', 'BABA']"
   ]
  },
  {
   "cell_type": "code",
   "execution_count": 6,
   "metadata": {},
   "outputs": [
    {
     "data": {
      "text/html": [
       "<div>\n",
       "<style scoped>\n",
       "    .dataframe tbody tr th:only-of-type {\n",
       "        vertical-align: middle;\n",
       "    }\n",
       "\n",
       "    .dataframe tbody tr th {\n",
       "        vertical-align: top;\n",
       "    }\n",
       "\n",
       "    .dataframe thead th {\n",
       "        text-align: right;\n",
       "    }\n",
       "</style>\n",
       "<table border=\"1\" class=\"dataframe\">\n",
       "  <thead>\n",
       "    <tr style=\"text-align: right;\">\n",
       "      <th></th>\n",
       "      <th>time</th>\n",
       "      <th>close</th>\n",
       "      <th>open</th>\n",
       "      <th>high</th>\n",
       "      <th>low</th>\n",
       "      <th>volume</th>\n",
       "      <th>percent</th>\n",
       "      <th>code</th>\n",
       "    </tr>\n",
       "  </thead>\n",
       "  <tbody>\n",
       "    <tr>\n",
       "      <th>0</th>\n",
       "      <td>Jan 05, 2015</td>\n",
       "      <td>106.25</td>\n",
       "      <td>108.29</td>\n",
       "      <td>108.65</td>\n",
       "      <td>105.41</td>\n",
       "      <td>64.29M</td>\n",
       "      <td>-2.82%</td>\n",
       "      <td>AAPL</td>\n",
       "    </tr>\n",
       "    <tr>\n",
       "      <th>1</th>\n",
       "      <td>Jan 06, 2015</td>\n",
       "      <td>106.26</td>\n",
       "      <td>106.54</td>\n",
       "      <td>107.43</td>\n",
       "      <td>104.63</td>\n",
       "      <td>65.80M</td>\n",
       "      <td>0.01%</td>\n",
       "      <td>AAPL</td>\n",
       "    </tr>\n",
       "    <tr>\n",
       "      <th>2</th>\n",
       "      <td>Jan 07, 2015</td>\n",
       "      <td>107.75</td>\n",
       "      <td>107.20</td>\n",
       "      <td>108.20</td>\n",
       "      <td>106.69</td>\n",
       "      <td>40.11M</td>\n",
       "      <td>1.40%</td>\n",
       "      <td>AAPL</td>\n",
       "    </tr>\n",
       "    <tr>\n",
       "      <th>3</th>\n",
       "      <td>Jan 08, 2015</td>\n",
       "      <td>111.89</td>\n",
       "      <td>109.23</td>\n",
       "      <td>112.15</td>\n",
       "      <td>108.70</td>\n",
       "      <td>59.36M</td>\n",
       "      <td>3.84%</td>\n",
       "      <td>AAPL</td>\n",
       "    </tr>\n",
       "    <tr>\n",
       "      <th>4</th>\n",
       "      <td>Jan 09, 2015</td>\n",
       "      <td>112.01</td>\n",
       "      <td>112.67</td>\n",
       "      <td>113.25</td>\n",
       "      <td>110.21</td>\n",
       "      <td>53.70M</td>\n",
       "      <td>0.11%</td>\n",
       "      <td>AAPL</td>\n",
       "    </tr>\n",
       "    <tr>\n",
       "      <th>...</th>\n",
       "      <td>...</td>\n",
       "      <td>...</td>\n",
       "      <td>...</td>\n",
       "      <td>...</td>\n",
       "      <td>...</td>\n",
       "      <td>...</td>\n",
       "      <td>...</td>\n",
       "      <td>...</td>\n",
       "    </tr>\n",
       "    <tr>\n",
       "      <th>2258</th>\n",
       "      <td>Dec 22, 2017</td>\n",
       "      <td>176.29</td>\n",
       "      <td>175.84</td>\n",
       "      <td>176.66</td>\n",
       "      <td>175.04</td>\n",
       "      <td>12.52M</td>\n",
       "      <td>0.55%</td>\n",
       "      <td>BABA</td>\n",
       "    </tr>\n",
       "    <tr>\n",
       "      <th>2259</th>\n",
       "      <td>Dec 26, 2017</td>\n",
       "      <td>172.33</td>\n",
       "      <td>174.55</td>\n",
       "      <td>175.15</td>\n",
       "      <td>171.73</td>\n",
       "      <td>12.91M</td>\n",
       "      <td>-2.25%</td>\n",
       "      <td>BABA</td>\n",
       "    </tr>\n",
       "    <tr>\n",
       "      <th>2260</th>\n",
       "      <td>Dec 27, 2017</td>\n",
       "      <td>172.97</td>\n",
       "      <td>172.29</td>\n",
       "      <td>173.87</td>\n",
       "      <td>171.73</td>\n",
       "      <td>10.15M</td>\n",
       "      <td>0.37%</td>\n",
       "      <td>BABA</td>\n",
       "    </tr>\n",
       "    <tr>\n",
       "      <th>2261</th>\n",
       "      <td>Dec 28, 2017</td>\n",
       "      <td>172.30</td>\n",
       "      <td>173.04</td>\n",
       "      <td>173.53</td>\n",
       "      <td>171.67</td>\n",
       "      <td>9.51M</td>\n",
       "      <td>-0.39%</td>\n",
       "      <td>BABA</td>\n",
       "    </tr>\n",
       "    <tr>\n",
       "      <th>2262</th>\n",
       "      <td>Dec 29, 2017</td>\n",
       "      <td>172.43</td>\n",
       "      <td>172.28</td>\n",
       "      <td>173.67</td>\n",
       "      <td>171.20</td>\n",
       "      <td>9.70M</td>\n",
       "      <td>0.08%</td>\n",
       "      <td>BABA</td>\n",
       "    </tr>\n",
       "  </tbody>\n",
       "</table>\n",
       "<p>1509 rows × 8 columns</p>\n",
       "</div>"
      ],
      "text/plain": [
       "              time   close    open    high     low  volume percent  code\n",
       "0     Jan 05, 2015  106.25  108.29  108.65  105.41  64.29M  -2.82%  AAPL\n",
       "1     Jan 06, 2015  106.26  106.54  107.43  104.63  65.80M   0.01%  AAPL\n",
       "2     Jan 07, 2015  107.75  107.20  108.20  106.69  40.11M   1.40%  AAPL\n",
       "3     Jan 08, 2015  111.89  109.23  112.15  108.70  59.36M   3.84%  AAPL\n",
       "4     Jan 09, 2015  112.01  112.67  113.25  110.21  53.70M   0.11%  AAPL\n",
       "...            ...     ...     ...     ...     ...     ...     ...   ...\n",
       "2258  Dec 22, 2017  176.29  175.84  176.66  175.04  12.52M   0.55%  BABA\n",
       "2259  Dec 26, 2017  172.33  174.55  175.15  171.73  12.91M  -2.25%  BABA\n",
       "2260  Dec 27, 2017  172.97  172.29  173.87  171.73  10.15M   0.37%  BABA\n",
       "2261  Dec 28, 2017  172.30  173.04  173.53  171.67   9.51M  -0.39%  BABA\n",
       "2262  Dec 29, 2017  172.43  172.28  173.67  171.20   9.70M   0.08%  BABA\n",
       "\n",
       "[1509 rows x 8 columns]"
      ]
     },
     "execution_count": 6,
     "metadata": {},
     "output_type": "execute_result"
    }
   ],
   "source": [
    "df[df['code'].isin(codes)]"
   ]
  },
  {
   "cell_type": "code",
   "execution_count": 7,
   "metadata": {},
   "outputs": [],
   "source": [
    "selected_data = df[df['code'].isin(codes)]"
   ]
  },
  {
   "cell_type": "code",
   "execution_count": 8,
   "metadata": {},
   "outputs": [
    {
     "name": "stdout",
     "output_type": "stream",
     "text": [
      "avaiable data for code AAPL: 755\n",
      "avaiable data for code BABA: 754\n"
     ]
    }
   ],
   "source": [
    "for code in codes:\n",
    "    asset_data_len = len(df[df['code'] == code])\n",
    "    print(f'avaiable data for code {code}: {asset_data_len}')"
   ]
  },
  {
   "cell_type": "code",
   "execution_count": 9,
   "metadata": {},
   "outputs": [
    {
     "name": "stdout",
     "output_type": "stream",
     "text": [
      "avaiable data for code AAPL: 755\n",
      "avaiable data for code V: 754\n",
      "avaiable data for code BABA: 754\n",
      "avaiable data for code ADBE: 755\n",
      "avaiable data for code SNE: 754\n"
     ]
    }
   ],
   "source": [
    "codes = ['AAPL', 'V', 'BABA', 'ADBE', 'SNE']\n",
    "for code in codes:\n",
    "    asset_data_len = len(df[df['code'] == code])\n",
    "    print(f'avaiable data for code {code}: {asset_data_len}')"
   ]
  },
  {
   "cell_type": "code",
   "execution_count": 10,
   "metadata": {},
   "outputs": [
    {
     "data": {
      "text/plain": [
       "Int64Index([1509, 1510, 1511, 1512, 1513, 1514, 1515, 1516, 1517, 1518,\n",
       "            ...\n",
       "            2253, 2254, 2255, 2256, 2257, 2258, 2259, 2260, 2261, 2262],\n",
       "           dtype='int64', length=754)"
      ]
     },
     "execution_count": 10,
     "metadata": {},
     "output_type": "execute_result"
    }
   ],
   "source": [
    "df[df['code'] == 'BABA'].index"
   ]
  },
  {
   "cell_type": "code",
   "execution_count": 11,
   "metadata": {},
   "outputs": [],
   "source": [
    "china_df = pd.read_csv('ChinaStock.csv')"
   ]
  },
  {
   "cell_type": "code",
   "execution_count": 12,
   "metadata": {},
   "outputs": [
    {
     "data": {
      "text/plain": [
       "array([600000, 600326, 600662, 600679, 600698, 600821, 600876, 600962,\n",
       "            2,     11,     48,    151,    725,    862,    985,   2066],\n",
       "      dtype=int64)"
      ]
     },
     "execution_count": 12,
     "metadata": {},
     "output_type": "execute_result"
    }
   ],
   "source": [
    "china_codes = china_df['code'].unique()\n",
    "china_codes"
   ]
  },
  {
   "cell_type": "code",
   "execution_count": 13,
   "metadata": {},
   "outputs": [
    {
     "data": {
      "text/plain": [
       "RangeIndex(start=0, stop=42246, step=1)"
      ]
     },
     "execution_count": 13,
     "metadata": {},
     "output_type": "execute_result"
    }
   ],
   "source": [
    "china_df.index"
   ]
  },
  {
   "cell_type": "code",
   "execution_count": 14,
   "metadata": {},
   "outputs": [],
   "source": [
    "df = pd.read_csv('AmericaStock.csv', index_col=0, parse_dates=True)"
   ]
  },
  {
   "cell_type": "code",
   "execution_count": 15,
   "metadata": {
    "scrolled": true
   },
   "outputs": [
    {
     "data": {
      "text/html": [
       "<div>\n",
       "<style scoped>\n",
       "    .dataframe tbody tr th:only-of-type {\n",
       "        vertical-align: middle;\n",
       "    }\n",
       "\n",
       "    .dataframe tbody tr th {\n",
       "        vertical-align: top;\n",
       "    }\n",
       "\n",
       "    .dataframe thead th {\n",
       "        text-align: right;\n",
       "    }\n",
       "</style>\n",
       "<table border=\"1\" class=\"dataframe\">\n",
       "  <thead>\n",
       "    <tr style=\"text-align: right;\">\n",
       "      <th></th>\n",
       "      <th>close</th>\n",
       "      <th>open</th>\n",
       "      <th>high</th>\n",
       "      <th>low</th>\n",
       "      <th>volume</th>\n",
       "      <th>percent</th>\n",
       "      <th>code</th>\n",
       "    </tr>\n",
       "    <tr>\n",
       "      <th>time</th>\n",
       "      <th></th>\n",
       "      <th></th>\n",
       "      <th></th>\n",
       "      <th></th>\n",
       "      <th></th>\n",
       "      <th></th>\n",
       "      <th></th>\n",
       "    </tr>\n",
       "  </thead>\n",
       "  <tbody>\n",
       "    <tr>\n",
       "      <th>2015-01-05</th>\n",
       "      <td>106.25</td>\n",
       "      <td>108.29</td>\n",
       "      <td>108.65</td>\n",
       "      <td>105.41</td>\n",
       "      <td>64.29M</td>\n",
       "      <td>-2.82%</td>\n",
       "      <td>AAPL</td>\n",
       "    </tr>\n",
       "    <tr>\n",
       "      <th>2015-01-06</th>\n",
       "      <td>106.26</td>\n",
       "      <td>106.54</td>\n",
       "      <td>107.43</td>\n",
       "      <td>104.63</td>\n",
       "      <td>65.80M</td>\n",
       "      <td>0.01%</td>\n",
       "      <td>AAPL</td>\n",
       "    </tr>\n",
       "    <tr>\n",
       "      <th>2015-01-07</th>\n",
       "      <td>107.75</td>\n",
       "      <td>107.20</td>\n",
       "      <td>108.20</td>\n",
       "      <td>106.69</td>\n",
       "      <td>40.11M</td>\n",
       "      <td>1.40%</td>\n",
       "      <td>AAPL</td>\n",
       "    </tr>\n",
       "    <tr>\n",
       "      <th>2015-01-08</th>\n",
       "      <td>111.89</td>\n",
       "      <td>109.23</td>\n",
       "      <td>112.15</td>\n",
       "      <td>108.70</td>\n",
       "      <td>59.36M</td>\n",
       "      <td>3.84%</td>\n",
       "      <td>AAPL</td>\n",
       "    </tr>\n",
       "    <tr>\n",
       "      <th>2015-01-09</th>\n",
       "      <td>112.01</td>\n",
       "      <td>112.67</td>\n",
       "      <td>113.25</td>\n",
       "      <td>110.21</td>\n",
       "      <td>53.70M</td>\n",
       "      <td>0.11%</td>\n",
       "      <td>AAPL</td>\n",
       "    </tr>\n",
       "    <tr>\n",
       "      <th>...</th>\n",
       "      <td>...</td>\n",
       "      <td>...</td>\n",
       "      <td>...</td>\n",
       "      <td>...</td>\n",
       "      <td>...</td>\n",
       "      <td>...</td>\n",
       "      <td>...</td>\n",
       "    </tr>\n",
       "    <tr>\n",
       "      <th>2017-12-22</th>\n",
       "      <td>45.68</td>\n",
       "      <td>45.73</td>\n",
       "      <td>45.78</td>\n",
       "      <td>45.44</td>\n",
       "      <td>453.37K</td>\n",
       "      <td>0.59%</td>\n",
       "      <td>SNE</td>\n",
       "    </tr>\n",
       "    <tr>\n",
       "      <th>2017-12-26</th>\n",
       "      <td>45.21</td>\n",
       "      <td>45.34</td>\n",
       "      <td>45.46</td>\n",
       "      <td>45.13</td>\n",
       "      <td>584.26K</td>\n",
       "      <td>-1.03%</td>\n",
       "      <td>SNE</td>\n",
       "    </tr>\n",
       "    <tr>\n",
       "      <th>2017-12-27</th>\n",
       "      <td>45.26</td>\n",
       "      <td>45.20</td>\n",
       "      <td>45.27</td>\n",
       "      <td>45.07</td>\n",
       "      <td>386.53K</td>\n",
       "      <td>0.11%</td>\n",
       "      <td>SNE</td>\n",
       "    </tr>\n",
       "    <tr>\n",
       "      <th>2017-12-28</th>\n",
       "      <td>45.29</td>\n",
       "      <td>45.30</td>\n",
       "      <td>45.42</td>\n",
       "      <td>45.17</td>\n",
       "      <td>541.48K</td>\n",
       "      <td>0.07%</td>\n",
       "      <td>SNE</td>\n",
       "    </tr>\n",
       "    <tr>\n",
       "      <th>2017-12-29</th>\n",
       "      <td>44.95</td>\n",
       "      <td>45.29</td>\n",
       "      <td>45.29</td>\n",
       "      <td>44.95</td>\n",
       "      <td>435.67K</td>\n",
       "      <td>-0.75%</td>\n",
       "      <td>SNE</td>\n",
       "    </tr>\n",
       "  </tbody>\n",
       "</table>\n",
       "<p>3772 rows × 7 columns</p>\n",
       "</div>"
      ],
      "text/plain": [
       "             close    open    high     low   volume percent  code\n",
       "time                                                             \n",
       "2015-01-05  106.25  108.29  108.65  105.41   64.29M  -2.82%  AAPL\n",
       "2015-01-06  106.26  106.54  107.43  104.63   65.80M   0.01%  AAPL\n",
       "2015-01-07  107.75  107.20  108.20  106.69   40.11M   1.40%  AAPL\n",
       "2015-01-08  111.89  109.23  112.15  108.70   59.36M   3.84%  AAPL\n",
       "2015-01-09  112.01  112.67  113.25  110.21   53.70M   0.11%  AAPL\n",
       "...            ...     ...     ...     ...      ...     ...   ...\n",
       "2017-12-22   45.68   45.73   45.78   45.44  453.37K   0.59%   SNE\n",
       "2017-12-26   45.21   45.34   45.46   45.13  584.26K  -1.03%   SNE\n",
       "2017-12-27   45.26   45.20   45.27   45.07  386.53K   0.11%   SNE\n",
       "2017-12-28   45.29   45.30   45.42   45.17  541.48K   0.07%   SNE\n",
       "2017-12-29   44.95   45.29   45.29   44.95  435.67K  -0.75%   SNE\n",
       "\n",
       "[3772 rows x 7 columns]"
      ]
     },
     "execution_count": 15,
     "metadata": {},
     "output_type": "execute_result"
    }
   ],
   "source": [
    "df"
   ]
  },
  {
   "cell_type": "code",
   "execution_count": 16,
   "metadata": {},
   "outputs": [
    {
     "data": {
      "text/html": [
       "<div>\n",
       "<style scoped>\n",
       "    .dataframe tbody tr th:only-of-type {\n",
       "        vertical-align: middle;\n",
       "    }\n",
       "\n",
       "    .dataframe tbody tr th {\n",
       "        vertical-align: top;\n",
       "    }\n",
       "\n",
       "    .dataframe thead th {\n",
       "        text-align: right;\n",
       "    }\n",
       "</style>\n",
       "<table border=\"1\" class=\"dataframe\">\n",
       "  <thead>\n",
       "    <tr style=\"text-align: right;\">\n",
       "      <th></th>\n",
       "      <th>close</th>\n",
       "      <th>open</th>\n",
       "      <th>high</th>\n",
       "      <th>low</th>\n",
       "      <th>volume</th>\n",
       "      <th>percent</th>\n",
       "      <th>code</th>\n",
       "    </tr>\n",
       "    <tr>\n",
       "      <th>time</th>\n",
       "      <th></th>\n",
       "      <th></th>\n",
       "      <th></th>\n",
       "      <th></th>\n",
       "      <th></th>\n",
       "      <th></th>\n",
       "      <th></th>\n",
       "    </tr>\n",
       "  </thead>\n",
       "  <tbody>\n",
       "    <tr>\n",
       "      <th>2017-12-22</th>\n",
       "      <td>175.01</td>\n",
       "      <td>174.68</td>\n",
       "      <td>175.42</td>\n",
       "      <td>174.50</td>\n",
       "      <td>16.35M</td>\n",
       "      <td>0.00%</td>\n",
       "      <td>AAPL</td>\n",
       "    </tr>\n",
       "    <tr>\n",
       "      <th>2017-12-22</th>\n",
       "      <td>112.69</td>\n",
       "      <td>112.39</td>\n",
       "      <td>113.11</td>\n",
       "      <td>112.25</td>\n",
       "      <td>6.19M</td>\n",
       "      <td>0.25%</td>\n",
       "      <td>V</td>\n",
       "    </tr>\n",
       "    <tr>\n",
       "      <th>2017-12-22</th>\n",
       "      <td>176.29</td>\n",
       "      <td>175.84</td>\n",
       "      <td>176.66</td>\n",
       "      <td>175.04</td>\n",
       "      <td>12.52M</td>\n",
       "      <td>0.55%</td>\n",
       "      <td>BABA</td>\n",
       "    </tr>\n",
       "    <tr>\n",
       "      <th>2017-12-22</th>\n",
       "      <td>175.00</td>\n",
       "      <td>173.99</td>\n",
       "      <td>175.10</td>\n",
       "      <td>173.75</td>\n",
       "      <td>1.70M</td>\n",
       "      <td>0.25%</td>\n",
       "      <td>ADBE</td>\n",
       "    </tr>\n",
       "    <tr>\n",
       "      <th>2017-12-22</th>\n",
       "      <td>45.68</td>\n",
       "      <td>45.73</td>\n",
       "      <td>45.78</td>\n",
       "      <td>45.44</td>\n",
       "      <td>453.37K</td>\n",
       "      <td>0.59%</td>\n",
       "      <td>SNE</td>\n",
       "    </tr>\n",
       "    <tr>\n",
       "      <th>2017-12-26</th>\n",
       "      <td>170.57</td>\n",
       "      <td>170.80</td>\n",
       "      <td>171.47</td>\n",
       "      <td>169.68</td>\n",
       "      <td>33.19M</td>\n",
       "      <td>-2.54%</td>\n",
       "      <td>AAPL</td>\n",
       "    </tr>\n",
       "    <tr>\n",
       "      <th>2017-12-26</th>\n",
       "      <td>112.99</td>\n",
       "      <td>112.07</td>\n",
       "      <td>113.44</td>\n",
       "      <td>112.07</td>\n",
       "      <td>3.95M</td>\n",
       "      <td>0.27%</td>\n",
       "      <td>V</td>\n",
       "    </tr>\n",
       "    <tr>\n",
       "      <th>2017-12-26</th>\n",
       "      <td>172.33</td>\n",
       "      <td>174.55</td>\n",
       "      <td>175.15</td>\n",
       "      <td>171.73</td>\n",
       "      <td>12.91M</td>\n",
       "      <td>-2.25%</td>\n",
       "      <td>BABA</td>\n",
       "    </tr>\n",
       "    <tr>\n",
       "      <th>2017-12-26</th>\n",
       "      <td>174.44</td>\n",
       "      <td>174.36</td>\n",
       "      <td>175.00</td>\n",
       "      <td>173.03</td>\n",
       "      <td>918.36K</td>\n",
       "      <td>-0.32%</td>\n",
       "      <td>ADBE</td>\n",
       "    </tr>\n",
       "    <tr>\n",
       "      <th>2017-12-26</th>\n",
       "      <td>45.21</td>\n",
       "      <td>45.34</td>\n",
       "      <td>45.46</td>\n",
       "      <td>45.13</td>\n",
       "      <td>584.26K</td>\n",
       "      <td>-1.03%</td>\n",
       "      <td>SNE</td>\n",
       "    </tr>\n",
       "  </tbody>\n",
       "</table>\n",
       "</div>"
      ],
      "text/plain": [
       "             close    open    high     low   volume percent  code\n",
       "time                                                             \n",
       "2017-12-22  175.01  174.68  175.42  174.50   16.35M   0.00%  AAPL\n",
       "2017-12-22  112.69  112.39  113.11  112.25    6.19M   0.25%     V\n",
       "2017-12-22  176.29  175.84  176.66  175.04   12.52M   0.55%  BABA\n",
       "2017-12-22  175.00  173.99  175.10  173.75    1.70M   0.25%  ADBE\n",
       "2017-12-22   45.68   45.73   45.78   45.44  453.37K   0.59%   SNE\n",
       "2017-12-26  170.57  170.80  171.47  169.68   33.19M  -2.54%  AAPL\n",
       "2017-12-26  112.99  112.07  113.44  112.07    3.95M   0.27%     V\n",
       "2017-12-26  172.33  174.55  175.15  171.73   12.91M  -2.25%  BABA\n",
       "2017-12-26  174.44  174.36  175.00  173.03  918.36K  -0.32%  ADBE\n",
       "2017-12-26   45.21   45.34   45.46   45.13  584.26K  -1.03%   SNE"
      ]
     },
     "execution_count": 16,
     "metadata": {},
     "output_type": "execute_result"
    }
   ],
   "source": [
    "df.loc['2017-12-22': '2017-12-26'].sort_index()"
   ]
  },
  {
   "cell_type": "code",
   "execution_count": 17,
   "metadata": {},
   "outputs": [
    {
     "data": {
      "text/plain": [
       "DatetimeIndex(['2017-12-22', '2017-12-23', '2017-12-24', '2017-12-25',\n",
       "               '2017-12-26'],\n",
       "              dtype='datetime64[ns]', freq='D')"
      ]
     },
     "execution_count": 17,
     "metadata": {},
     "output_type": "execute_result"
    }
   ],
   "source": [
    "date_range = pd.date_range('2017-12-22', '2017-12-26')\n",
    "date_range"
   ]
  },
  {
   "cell_type": "code",
   "execution_count": 18,
   "metadata": {},
   "outputs": [],
   "source": [
    "asset_data = df[df['code'] == 'AAPL'].loc['2017-12-22': '2017-12-26'].reindex(date_range)"
   ]
  },
  {
   "cell_type": "code",
   "execution_count": 19,
   "metadata": {},
   "outputs": [
    {
     "data": {
      "text/html": [
       "<div>\n",
       "<style scoped>\n",
       "    .dataframe tbody tr th:only-of-type {\n",
       "        vertical-align: middle;\n",
       "    }\n",
       "\n",
       "    .dataframe tbody tr th {\n",
       "        vertical-align: top;\n",
       "    }\n",
       "\n",
       "    .dataframe thead th {\n",
       "        text-align: right;\n",
       "    }\n",
       "</style>\n",
       "<table border=\"1\" class=\"dataframe\">\n",
       "  <thead>\n",
       "    <tr style=\"text-align: right;\">\n",
       "      <th></th>\n",
       "      <th>close</th>\n",
       "      <th>open</th>\n",
       "      <th>high</th>\n",
       "      <th>low</th>\n",
       "      <th>volume</th>\n",
       "      <th>percent</th>\n",
       "      <th>code</th>\n",
       "    </tr>\n",
       "  </thead>\n",
       "  <tbody>\n",
       "    <tr>\n",
       "      <th>2017-12-22</th>\n",
       "      <td>175.01</td>\n",
       "      <td>174.68</td>\n",
       "      <td>175.42</td>\n",
       "      <td>174.50</td>\n",
       "      <td>16.35M</td>\n",
       "      <td>0.00%</td>\n",
       "      <td>AAPL</td>\n",
       "    </tr>\n",
       "    <tr>\n",
       "      <th>2017-12-23</th>\n",
       "      <td>NaN</td>\n",
       "      <td>NaN</td>\n",
       "      <td>NaN</td>\n",
       "      <td>NaN</td>\n",
       "      <td>NaN</td>\n",
       "      <td>NaN</td>\n",
       "      <td>NaN</td>\n",
       "    </tr>\n",
       "    <tr>\n",
       "      <th>2017-12-24</th>\n",
       "      <td>NaN</td>\n",
       "      <td>NaN</td>\n",
       "      <td>NaN</td>\n",
       "      <td>NaN</td>\n",
       "      <td>NaN</td>\n",
       "      <td>NaN</td>\n",
       "      <td>NaN</td>\n",
       "    </tr>\n",
       "    <tr>\n",
       "      <th>2017-12-25</th>\n",
       "      <td>NaN</td>\n",
       "      <td>NaN</td>\n",
       "      <td>NaN</td>\n",
       "      <td>NaN</td>\n",
       "      <td>NaN</td>\n",
       "      <td>NaN</td>\n",
       "      <td>NaN</td>\n",
       "    </tr>\n",
       "    <tr>\n",
       "      <th>2017-12-26</th>\n",
       "      <td>170.57</td>\n",
       "      <td>170.80</td>\n",
       "      <td>171.47</td>\n",
       "      <td>169.68</td>\n",
       "      <td>33.19M</td>\n",
       "      <td>-2.54%</td>\n",
       "      <td>AAPL</td>\n",
       "    </tr>\n",
       "  </tbody>\n",
       "</table>\n",
       "</div>"
      ],
      "text/plain": [
       "             close    open    high     low  volume percent  code\n",
       "2017-12-22  175.01  174.68  175.42  174.50  16.35M   0.00%  AAPL\n",
       "2017-12-23     NaN     NaN     NaN     NaN     NaN     NaN   NaN\n",
       "2017-12-24     NaN     NaN     NaN     NaN     NaN     NaN   NaN\n",
       "2017-12-25     NaN     NaN     NaN     NaN     NaN     NaN   NaN\n",
       "2017-12-26  170.57  170.80  171.47  169.68  33.19M  -2.54%  AAPL"
      ]
     },
     "execution_count": 19,
     "metadata": {},
     "output_type": "execute_result"
    }
   ],
   "source": [
    "asset_data"
   ]
  },
  {
   "cell_type": "code",
   "execution_count": 20,
   "metadata": {},
   "outputs": [],
   "source": [
    "asset_data['close'].fillna(method='pad', inplace=True)"
   ]
  },
  {
   "cell_type": "code",
   "execution_count": 21,
   "metadata": {},
   "outputs": [
    {
     "data": {
      "text/html": [
       "<div>\n",
       "<style scoped>\n",
       "    .dataframe tbody tr th:only-of-type {\n",
       "        vertical-align: middle;\n",
       "    }\n",
       "\n",
       "    .dataframe tbody tr th {\n",
       "        vertical-align: top;\n",
       "    }\n",
       "\n",
       "    .dataframe thead th {\n",
       "        text-align: right;\n",
       "    }\n",
       "</style>\n",
       "<table border=\"1\" class=\"dataframe\">\n",
       "  <thead>\n",
       "    <tr style=\"text-align: right;\">\n",
       "      <th></th>\n",
       "      <th>close</th>\n",
       "      <th>open</th>\n",
       "      <th>high</th>\n",
       "      <th>low</th>\n",
       "      <th>volume</th>\n",
       "      <th>percent</th>\n",
       "      <th>code</th>\n",
       "    </tr>\n",
       "  </thead>\n",
       "  <tbody>\n",
       "    <tr>\n",
       "      <th>2017-12-22</th>\n",
       "      <td>175.01</td>\n",
       "      <td>174.68</td>\n",
       "      <td>175.42</td>\n",
       "      <td>174.50</td>\n",
       "      <td>16.35M</td>\n",
       "      <td>0.00%</td>\n",
       "      <td>AAPL</td>\n",
       "    </tr>\n",
       "    <tr>\n",
       "      <th>2017-12-23</th>\n",
       "      <td>175.01</td>\n",
       "      <td>NaN</td>\n",
       "      <td>NaN</td>\n",
       "      <td>NaN</td>\n",
       "      <td>NaN</td>\n",
       "      <td>NaN</td>\n",
       "      <td>NaN</td>\n",
       "    </tr>\n",
       "    <tr>\n",
       "      <th>2017-12-24</th>\n",
       "      <td>175.01</td>\n",
       "      <td>NaN</td>\n",
       "      <td>NaN</td>\n",
       "      <td>NaN</td>\n",
       "      <td>NaN</td>\n",
       "      <td>NaN</td>\n",
       "      <td>NaN</td>\n",
       "    </tr>\n",
       "    <tr>\n",
       "      <th>2017-12-25</th>\n",
       "      <td>175.01</td>\n",
       "      <td>NaN</td>\n",
       "      <td>NaN</td>\n",
       "      <td>NaN</td>\n",
       "      <td>NaN</td>\n",
       "      <td>NaN</td>\n",
       "      <td>NaN</td>\n",
       "    </tr>\n",
       "    <tr>\n",
       "      <th>2017-12-26</th>\n",
       "      <td>170.57</td>\n",
       "      <td>170.80</td>\n",
       "      <td>171.47</td>\n",
       "      <td>169.68</td>\n",
       "      <td>33.19M</td>\n",
       "      <td>-2.54%</td>\n",
       "      <td>AAPL</td>\n",
       "    </tr>\n",
       "  </tbody>\n",
       "</table>\n",
       "</div>"
      ],
      "text/plain": [
       "             close    open    high     low  volume percent  code\n",
       "2017-12-22  175.01  174.68  175.42  174.50  16.35M   0.00%  AAPL\n",
       "2017-12-23  175.01     NaN     NaN     NaN     NaN     NaN   NaN\n",
       "2017-12-24  175.01     NaN     NaN     NaN     NaN     NaN   NaN\n",
       "2017-12-25  175.01     NaN     NaN     NaN     NaN     NaN   NaN\n",
       "2017-12-26  170.57  170.80  171.47  169.68  33.19M  -2.54%  AAPL"
      ]
     },
     "execution_count": 21,
     "metadata": {},
     "output_type": "execute_result"
    }
   ],
   "source": [
    "asset_data"
   ]
  },
  {
   "cell_type": "code",
   "execution_count": 22,
   "metadata": {},
   "outputs": [],
   "source": [
    "asset_data.fillna({'high': asset_data['close'], 'open':asset_data['close'], 'low': asset_data['close']}, inplace=True)"
   ]
  },
  {
   "cell_type": "code",
   "execution_count": 23,
   "metadata": {},
   "outputs": [
    {
     "data": {
      "text/html": [
       "<div>\n",
       "<style scoped>\n",
       "    .dataframe tbody tr th:only-of-type {\n",
       "        vertical-align: middle;\n",
       "    }\n",
       "\n",
       "    .dataframe tbody tr th {\n",
       "        vertical-align: top;\n",
       "    }\n",
       "\n",
       "    .dataframe thead th {\n",
       "        text-align: right;\n",
       "    }\n",
       "</style>\n",
       "<table border=\"1\" class=\"dataframe\">\n",
       "  <thead>\n",
       "    <tr style=\"text-align: right;\">\n",
       "      <th></th>\n",
       "      <th>close</th>\n",
       "      <th>open</th>\n",
       "      <th>high</th>\n",
       "      <th>low</th>\n",
       "      <th>volume</th>\n",
       "      <th>percent</th>\n",
       "      <th>code</th>\n",
       "    </tr>\n",
       "  </thead>\n",
       "  <tbody>\n",
       "    <tr>\n",
       "      <th>2017-12-22</th>\n",
       "      <td>175.01</td>\n",
       "      <td>174.68</td>\n",
       "      <td>175.42</td>\n",
       "      <td>174.50</td>\n",
       "      <td>16.35M</td>\n",
       "      <td>0.00%</td>\n",
       "      <td>AAPL</td>\n",
       "    </tr>\n",
       "    <tr>\n",
       "      <th>2017-12-23</th>\n",
       "      <td>175.01</td>\n",
       "      <td>175.01</td>\n",
       "      <td>175.01</td>\n",
       "      <td>175.01</td>\n",
       "      <td>NaN</td>\n",
       "      <td>NaN</td>\n",
       "      <td>NaN</td>\n",
       "    </tr>\n",
       "    <tr>\n",
       "      <th>2017-12-24</th>\n",
       "      <td>175.01</td>\n",
       "      <td>175.01</td>\n",
       "      <td>175.01</td>\n",
       "      <td>175.01</td>\n",
       "      <td>NaN</td>\n",
       "      <td>NaN</td>\n",
       "      <td>NaN</td>\n",
       "    </tr>\n",
       "    <tr>\n",
       "      <th>2017-12-25</th>\n",
       "      <td>175.01</td>\n",
       "      <td>175.01</td>\n",
       "      <td>175.01</td>\n",
       "      <td>175.01</td>\n",
       "      <td>NaN</td>\n",
       "      <td>NaN</td>\n",
       "      <td>NaN</td>\n",
       "    </tr>\n",
       "    <tr>\n",
       "      <th>2017-12-26</th>\n",
       "      <td>170.57</td>\n",
       "      <td>170.80</td>\n",
       "      <td>171.47</td>\n",
       "      <td>169.68</td>\n",
       "      <td>33.19M</td>\n",
       "      <td>-2.54%</td>\n",
       "      <td>AAPL</td>\n",
       "    </tr>\n",
       "  </tbody>\n",
       "</table>\n",
       "</div>"
      ],
      "text/plain": [
       "             close    open    high     low  volume percent  code\n",
       "2017-12-22  175.01  174.68  175.42  174.50  16.35M   0.00%  AAPL\n",
       "2017-12-23  175.01  175.01  175.01  175.01     NaN     NaN   NaN\n",
       "2017-12-24  175.01  175.01  175.01  175.01     NaN     NaN   NaN\n",
       "2017-12-25  175.01  175.01  175.01  175.01     NaN     NaN   NaN\n",
       "2017-12-26  170.57  170.80  171.47  169.68  33.19M  -2.54%  AAPL"
      ]
     },
     "execution_count": 23,
     "metadata": {},
     "output_type": "execute_result"
    }
   ],
   "source": [
    "asset_data"
   ]
  },
  {
   "cell_type": "code",
   "execution_count": 24,
   "metadata": {},
   "outputs": [],
   "source": [
    "base_price = asset_data['close'][-1]"
   ]
  },
  {
   "cell_type": "code",
   "execution_count": 25,
   "metadata": {},
   "outputs": [],
   "source": [
    "asset_data['close'] /= base_price"
   ]
  },
  {
   "cell_type": "code",
   "execution_count": 26,
   "metadata": {},
   "outputs": [
    {
     "data": {
      "text/html": [
       "<div>\n",
       "<style scoped>\n",
       "    .dataframe tbody tr th:only-of-type {\n",
       "        vertical-align: middle;\n",
       "    }\n",
       "\n",
       "    .dataframe tbody tr th {\n",
       "        vertical-align: top;\n",
       "    }\n",
       "\n",
       "    .dataframe thead th {\n",
       "        text-align: right;\n",
       "    }\n",
       "</style>\n",
       "<table border=\"1\" class=\"dataframe\">\n",
       "  <thead>\n",
       "    <tr style=\"text-align: right;\">\n",
       "      <th></th>\n",
       "      <th>close</th>\n",
       "      <th>open</th>\n",
       "      <th>high</th>\n",
       "      <th>low</th>\n",
       "      <th>volume</th>\n",
       "      <th>percent</th>\n",
       "      <th>code</th>\n",
       "    </tr>\n",
       "  </thead>\n",
       "  <tbody>\n",
       "    <tr>\n",
       "      <th>2017-12-22</th>\n",
       "      <td>1.02603</td>\n",
       "      <td>174.68</td>\n",
       "      <td>175.42</td>\n",
       "      <td>174.50</td>\n",
       "      <td>16.35M</td>\n",
       "      <td>0.00%</td>\n",
       "      <td>AAPL</td>\n",
       "    </tr>\n",
       "    <tr>\n",
       "      <th>2017-12-23</th>\n",
       "      <td>1.02603</td>\n",
       "      <td>175.01</td>\n",
       "      <td>175.01</td>\n",
       "      <td>175.01</td>\n",
       "      <td>NaN</td>\n",
       "      <td>NaN</td>\n",
       "      <td>NaN</td>\n",
       "    </tr>\n",
       "    <tr>\n",
       "      <th>2017-12-24</th>\n",
       "      <td>1.02603</td>\n",
       "      <td>175.01</td>\n",
       "      <td>175.01</td>\n",
       "      <td>175.01</td>\n",
       "      <td>NaN</td>\n",
       "      <td>NaN</td>\n",
       "      <td>NaN</td>\n",
       "    </tr>\n",
       "    <tr>\n",
       "      <th>2017-12-25</th>\n",
       "      <td>1.02603</td>\n",
       "      <td>175.01</td>\n",
       "      <td>175.01</td>\n",
       "      <td>175.01</td>\n",
       "      <td>NaN</td>\n",
       "      <td>NaN</td>\n",
       "      <td>NaN</td>\n",
       "    </tr>\n",
       "    <tr>\n",
       "      <th>2017-12-26</th>\n",
       "      <td>1.00000</td>\n",
       "      <td>170.80</td>\n",
       "      <td>171.47</td>\n",
       "      <td>169.68</td>\n",
       "      <td>33.19M</td>\n",
       "      <td>-2.54%</td>\n",
       "      <td>AAPL</td>\n",
       "    </tr>\n",
       "  </tbody>\n",
       "</table>\n",
       "</div>"
      ],
      "text/plain": [
       "              close    open    high     low  volume percent  code\n",
       "2017-12-22  1.02603  174.68  175.42  174.50  16.35M   0.00%  AAPL\n",
       "2017-12-23  1.02603  175.01  175.01  175.01     NaN     NaN   NaN\n",
       "2017-12-24  1.02603  175.01  175.01  175.01     NaN     NaN   NaN\n",
       "2017-12-25  1.02603  175.01  175.01  175.01     NaN     NaN   NaN\n",
       "2017-12-26  1.00000  170.80  171.47  169.68  33.19M  -2.54%  AAPL"
      ]
     },
     "execution_count": 26,
     "metadata": {},
     "output_type": "execute_result"
    }
   ],
   "source": [
    "asset_data"
   ]
  },
  {
   "cell_type": "code",
   "execution_count": 27,
   "metadata": {},
   "outputs": [
    {
     "data": {
      "text/plain": [
       "array([1.02603037])"
      ]
     },
     "execution_count": 27,
     "metadata": {},
     "output_type": "execute_result"
    }
   ],
   "source": [
    "asset_data['close'][1: 2].to_numpy()"
   ]
  },
  {
   "cell_type": "code",
   "execution_count": 28,
   "metadata": {},
   "outputs": [],
   "source": [
    "import numpy as np"
   ]
  },
  {
   "cell_type": "code",
   "execution_count": 29,
   "metadata": {},
   "outputs": [],
   "source": [
    "v_close = np.ones(2)"
   ]
  },
  {
   "cell_type": "code",
   "execution_count": 30,
   "metadata": {},
   "outputs": [],
   "source": [
    "from datetime import datetime"
   ]
  },
  {
   "cell_type": "code",
   "execution_count": 31,
   "metadata": {},
   "outputs": [
    {
     "data": {
      "text/plain": [
       "1"
      ]
     },
     "execution_count": 31,
     "metadata": {},
     "output_type": "execute_result"
    }
   ],
   "source": [
    "d1 = datetime.strptime(\"2002-12-10\", \"%Y-%m-%d\")\n",
    "d2 = datetime.strptime(\"2002-12-11\", \"%Y-%m-%d\")\n",
    "(d2 - d1).days"
   ]
  },
  {
   "cell_type": "code",
   "execution_count": 32,
   "metadata": {},
   "outputs": [],
   "source": [
    "from stock_env import StockEnv"
   ]
  },
  {
   "cell_type": "code",
   "execution_count": 35,
   "metadata": {},
   "outputs": [],
   "source": [
    "env_args = {\n",
    "    \"asset_codes\": ['AAPL', 'V', 'BABA', 'ADBE', 'SNE'],\n",
    "    \"features\": [\"close\", \"open\", \"high\", \"low\"],\n",
    "    \"start_date\": \"2017-12-12\",\n",
    "    \"end_date\": \"2017-12-16\", \n",
    "    \"window_len\": 2,\n",
    "    \"data_path\": \"AmericaStock.csv\"\n",
    "}"
   ]
  },
  {
   "cell_type": "code",
   "execution_count": 1,
   "metadata": {},
   "outputs": [
    {
     "ename": "NameError",
     "evalue": "name 'StockEnv' is not defined",
     "traceback": [
      "\u001b[0;31m---------------------------------------------------------------------------\u001b[0m",
      "\u001b[0;31mNameError\u001b[0m                                 Traceback (most recent call last)",
      "\u001b[0;32m<ipython-input-1-f44727b77545>\u001b[0m in \u001b[0;36m<module>\u001b[0;34m\u001b[0m\n\u001b[0;32m----> 1\u001b[0;31m \u001b[0mstock_env\u001b[0m \u001b[0;34m=\u001b[0m \u001b[0mStockEnv\u001b[0m\u001b[0;34m(\u001b[0m\u001b[0;34m**\u001b[0m\u001b[0menv_args\u001b[0m\u001b[0;34m)\u001b[0m\u001b[0;34m\u001b[0m\u001b[0;34m\u001b[0m\u001b[0m\n\u001b[0m",
      "\u001b[0;31mNameError\u001b[0m: name 'StockEnv' is not defined"
     ],
     "output_type": "error"
    }
   ],
   "source": [
    "stock_env = StockEnv(**env_args)"
   ]
  },
  {
   "cell_type": "code",
   "execution_count": 38,
   "metadata": {},
   "outputs": [],
   "source": [
    "asset_dict = stock_env.clean_raw_data(\"AmericaStock.csv\")"
   ]
  },
  {
   "cell_type": "code",
   "execution_count": 39,
   "metadata": {},
   "outputs": [
    {
     "data": {
      "text/html": [
       "<div>\n",
       "<style scoped>\n",
       "    .dataframe tbody tr th:only-of-type {\n",
       "        vertical-align: middle;\n",
       "    }\n",
       "\n",
       "    .dataframe tbody tr th {\n",
       "        vertical-align: top;\n",
       "    }\n",
       "\n",
       "    .dataframe thead th {\n",
       "        text-align: right;\n",
       "    }\n",
       "</style>\n",
       "<table border=\"1\" class=\"dataframe\">\n",
       "  <thead>\n",
       "    <tr style=\"text-align: right;\">\n",
       "      <th></th>\n",
       "      <th>close</th>\n",
       "      <th>open</th>\n",
       "      <th>high</th>\n",
       "      <th>low</th>\n",
       "    </tr>\n",
       "  </thead>\n",
       "  <tbody>\n",
       "    <tr>\n",
       "      <th>2017-12-12</th>\n",
       "      <td>0.986952</td>\n",
       "      <td>0.989538</td>\n",
       "      <td>0.990918</td>\n",
       "      <td>0.985572</td>\n",
       "    </tr>\n",
       "    <tr>\n",
       "      <th>2017-12-13</th>\n",
       "      <td>0.990228</td>\n",
       "      <td>0.991550</td>\n",
       "      <td>0.997528</td>\n",
       "      <td>0.988676</td>\n",
       "    </tr>\n",
       "    <tr>\n",
       "      <th>2017-12-14</th>\n",
       "      <td>0.989941</td>\n",
       "      <td>0.990975</td>\n",
       "      <td>0.995172</td>\n",
       "      <td>0.986664</td>\n",
       "    </tr>\n",
       "    <tr>\n",
       "      <th>2017-12-15</th>\n",
       "      <td>1.000000</td>\n",
       "      <td>0.998046</td>\n",
       "      <td>1.001150</td>\n",
       "      <td>0.991320</td>\n",
       "    </tr>\n",
       "    <tr>\n",
       "      <th>2017-12-16</th>\n",
       "      <td>1.000000</td>\n",
       "      <td>1.000000</td>\n",
       "      <td>1.000000</td>\n",
       "      <td>1.000000</td>\n",
       "    </tr>\n",
       "  </tbody>\n",
       "</table>\n",
       "</div>"
      ],
      "text/plain": [
       "               close      open      high       low\n",
       "2017-12-12  0.986952  0.989538  0.990918  0.985572\n",
       "2017-12-13  0.990228  0.991550  0.997528  0.988676\n",
       "2017-12-14  0.989941  0.990975  0.995172  0.986664\n",
       "2017-12-15  1.000000  0.998046  1.001150  0.991320\n",
       "2017-12-16  1.000000  1.000000  1.000000  1.000000"
      ]
     },
     "execution_count": 39,
     "metadata": {},
     "output_type": "execute_result"
    }
   ],
   "source": [
    "asset_dict[\"AAPL\"]"
   ]
  },
  {
   "cell_type": "code",
   "execution_count": 40,
   "metadata": {},
   "outputs": [
    {
     "data": {
      "text/html": [
       "<div>\n",
       "<style scoped>\n",
       "    .dataframe tbody tr th:only-of-type {\n",
       "        vertical-align: middle;\n",
       "    }\n",
       "\n",
       "    .dataframe tbody tr th {\n",
       "        vertical-align: top;\n",
       "    }\n",
       "\n",
       "    .dataframe thead th {\n",
       "        text-align: right;\n",
       "    }\n",
       "</style>\n",
       "<table border=\"1\" class=\"dataframe\">\n",
       "  <thead>\n",
       "    <tr style=\"text-align: right;\">\n",
       "      <th></th>\n",
       "      <th>close</th>\n",
       "      <th>open</th>\n",
       "      <th>high</th>\n",
       "      <th>low</th>\n",
       "    </tr>\n",
       "  </thead>\n",
       "  <tbody>\n",
       "    <tr>\n",
       "      <th>2017-12-12</th>\n",
       "      <td>0.996837</td>\n",
       "      <td>0.987261</td>\n",
       "      <td>0.999209</td>\n",
       "      <td>0.984010</td>\n",
       "    </tr>\n",
       "    <tr>\n",
       "      <th>2017-12-13</th>\n",
       "      <td>0.995519</td>\n",
       "      <td>0.999385</td>\n",
       "      <td>1.004832</td>\n",
       "      <td>0.994465</td>\n",
       "    </tr>\n",
       "    <tr>\n",
       "      <th>2017-12-14</th>\n",
       "      <td>0.992093</td>\n",
       "      <td>0.997628</td>\n",
       "      <td>1.002372</td>\n",
       "      <td>0.992093</td>\n",
       "    </tr>\n",
       "    <tr>\n",
       "      <th>2017-12-15</th>\n",
       "      <td>1.000000</td>\n",
       "      <td>1.001318</td>\n",
       "      <td>1.003339</td>\n",
       "      <td>0.987436</td>\n",
       "    </tr>\n",
       "    <tr>\n",
       "      <th>2017-12-16</th>\n",
       "      <td>1.000000</td>\n",
       "      <td>1.000000</td>\n",
       "      <td>1.000000</td>\n",
       "      <td>1.000000</td>\n",
       "    </tr>\n",
       "  </tbody>\n",
       "</table>\n",
       "</div>"
      ],
      "text/plain": [
       "               close      open      high       low\n",
       "2017-12-12  0.996837  0.987261  0.999209  0.984010\n",
       "2017-12-13  0.995519  0.999385  1.004832  0.994465\n",
       "2017-12-14  0.992093  0.997628  1.002372  0.992093\n",
       "2017-12-15  1.000000  1.001318  1.003339  0.987436\n",
       "2017-12-16  1.000000  1.000000  1.000000  1.000000"
      ]
     },
     "execution_count": 40,
     "metadata": {},
     "output_type": "execute_result"
    }
   ],
   "source": [
    "asset_dict[\"V\"]"
   ]
  },
  {
   "cell_type": "code",
   "execution_count": 41,
   "metadata": {},
   "outputs": [
    {
     "data": {
      "text/plain": [
       "0.9902282002644135"
      ]
     },
     "execution_count": 41,
     "metadata": {},
     "output_type": "execute_result"
    }
   ],
   "source": [
    "asset_dict[\"AAPL\"].iloc[1][\"close\"]"
   ]
  },
  {
   "cell_type": "code",
   "execution_count": 42,
   "metadata": {},
   "outputs": [],
   "source": [
    "price_change_ratios = stock_env.get_price_change_ratios(asset_dict)"
   ]
  },
  {
   "cell_type": "code",
   "execution_count": 43,
   "metadata": {},
   "outputs": [
    {
     "data": {
      "text/plain": [
       "array([[1.        , 1.        , 1.        , 1.        , 1.        ,\n",
       "        1.        ],\n",
       "       [1.        , 1.00331974, 0.99867795, 1.0104787 , 1.0248638 ,\n",
       "        1.00044813],\n",
       "       [1.        , 0.99970976, 0.99655811, 0.97325324, 0.98965108,\n",
       "        0.99552072],\n",
       "       [1.        , 1.01016142, 1.00797024, 1.01048035, 1.01434286,\n",
       "        1.0087739 ],\n",
       "       [1.        , 1.        , 1.        , 1.        , 1.        ,\n",
       "        1.        ]])"
      ]
     },
     "execution_count": 43,
     "metadata": {},
     "output_type": "execute_result"
    }
   ],
   "source": [
    "price_change_ratios"
   ]
  },
  {
   "cell_type": "code",
   "execution_count": 44,
   "metadata": {},
   "outputs": [],
   "source": [
    "states = stock_env.get_states(asset_dict)"
   ]
  },
  {
   "cell_type": "code",
   "execution_count": null,
   "metadata": {},
   "outputs": [],
   "source": []
  },
  {
   "cell_type": "code",
   "execution_count": null,
   "metadata": {},
   "outputs": [],
   "source": []
  }
 ],
 "metadata": {
  "kernelspec": {
   "display_name": "ddpg",
   "language": "python",
   "name": "ddpg"
  },
  "language_info": {
   "codemirror_mode": {
    "name": "ipython",
    "version": 3
   },
   "file_extension": ".py",
   "mimetype": "text/x-python",
   "name": "python",
   "nbconvert_exporter": "python",
   "pygments_lexer": "ipython3",
   "version": "3.6.7"
  }
 },
 "nbformat": 4,
 "nbformat_minor": 4
}
