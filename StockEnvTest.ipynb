{
 "cells": [
  {
   "cell_type": "code",
   "execution_count": 1,
   "metadata": {},
   "outputs": [],
   "source": [
    "import pandas as pd"
   ]
  },
  {
   "cell_type": "code",
   "execution_count": 2,
   "metadata": {},
   "outputs": [],
   "source": [
    "df = pd.read_csv('AmericaStock.csv')"
   ]
  },
  {
   "cell_type": "code",
   "execution_count": 3,
   "metadata": {},
   "outputs": [
    {
     "data": {
      "text/plain": [
       "<bound method DataFrame.info of               time   close    open    high     low   volume percent  code\n",
       "0     Jan 05, 2015  106.25  108.29  108.65  105.41   64.29M  -2.82%  AAPL\n",
       "1     Jan 06, 2015  106.26  106.54  107.43  104.63   65.80M   0.01%  AAPL\n",
       "2     Jan 07, 2015  107.75  107.20  108.20  106.69   40.11M   1.40%  AAPL\n",
       "3     Jan 08, 2015  111.89  109.23  112.15  108.70   59.36M   3.84%  AAPL\n",
       "4     Jan 09, 2015  112.01  112.67  113.25  110.21   53.70M   0.11%  AAPL\n",
       "...            ...     ...     ...     ...     ...      ...     ...   ...\n",
       "3767  Dec 22, 2017   45.68   45.73   45.78   45.44  453.37K   0.59%   SNE\n",
       "3768  Dec 26, 2017   45.21   45.34   45.46   45.13  584.26K  -1.03%   SNE\n",
       "3769  Dec 27, 2017   45.26   45.20   45.27   45.07  386.53K   0.11%   SNE\n",
       "3770  Dec 28, 2017   45.29   45.30   45.42   45.17  541.48K   0.07%   SNE\n",
       "3771  Dec 29, 2017   44.95   45.29   45.29   44.95  435.67K  -0.75%   SNE\n",
       "\n",
       "[3772 rows x 8 columns]>"
      ]
     },
     "execution_count": 3,
     "metadata": {},
     "output_type": "execute_result"
    }
   ],
   "source": [
    "df.info"
   ]
  },
  {
   "cell_type": "code",
   "execution_count": 4,
   "metadata": {},
   "outputs": [
    {
     "data": {
      "text/plain": [
       "array(['AAPL', 'V', 'BABA', 'ADBE', 'SNE'], dtype=object)"
      ]
     },
     "execution_count": 4,
     "metadata": {},
     "output_type": "execute_result"
    }
   ],
   "source": [
    "df['code'].unique()"
   ]
  },
  {
   "cell_type": "code",
   "execution_count": 6,
   "metadata": {},
   "outputs": [],
   "source": [
    "df = pd.read_csv('China.csv')"
   ]
  },
  {
   "cell_type": "code",
   "execution_count": 7,
   "metadata": {},
   "outputs": [
    {
     "data": {
      "text/plain": [
       "array([600000, 600326, 600662, 600679, 600698, 600821, 600876, 600962,\n",
       "            2,     11,     48,    151,    725,    862,    985,   2066])"
      ]
     },
     "execution_count": 7,
     "metadata": {},
     "output_type": "execute_result"
    }
   ],
   "source": [
    "df['code'].unique()"
   ]
  },
  {
   "cell_type": "code",
   "execution_count": null,
   "metadata": {},
   "outputs": [],
   "source": []
  }
 ],
 "metadata": {
  "kernelspec": {
   "display_name": "ddpg",
   "language": "python",
   "name": "ddpg"
  },
  "language_info": {
   "codemirror_mode": {
    "name": "ipython",
    "version": 3
   },
   "file_extension": ".py",
   "mimetype": "text/x-python",
   "name": "python",
   "nbconvert_exporter": "python",
   "pygments_lexer": "ipython3",
   "version": "3.6.10"
  }
 },
 "nbformat": 4,
 "nbformat_minor": 4
}
