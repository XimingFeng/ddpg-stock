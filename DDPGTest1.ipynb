{
 "cells": [
  {
   "cell_type": "code",
   "execution_count": 1,
   "metadata": {},
   "outputs": [],
   "source": [
    "from stock_env import StockEnv\n",
    "import pandas as pd\n",
    "import numpy as np\n",
    "from replay_buffer import Buffer\n",
    "from ddpg import ActorCritic\n",
    "import tensorflow as tf\n",
    "\n",
    "%load_ext autoreload\n",
    "%autoreload 2"
   ]
  },
  {
   "cell_type": "code",
   "execution_count": 17,
   "metadata": {},
   "outputs": [],
   "source": [
    "env_args = {\n",
    "    \"asset_codes\": ['AAPL', 'V', 'BABA', 'ADBE', 'SNE'],\n",
    "    \"features\": [\"close\", \"high\", \"low\"],\n",
    "    \"start_date\": \"2017-5-1\",\n",
    "    \"end_date\": \"2017-6-23\", \n",
    "    \"window_len\": 50,\n",
    "    \"data_path\": \"AmericaStock.csv\"\n",
    "}"
   ]
  },
  {
   "cell_type": "code",
   "execution_count": 18,
   "metadata": {},
   "outputs": [],
   "source": [
    "stock_env = StockEnv(**env_args)"
   ]
  },
  {
   "cell_type": "code",
   "execution_count": 19,
   "metadata": {},
   "outputs": [
    {
     "name": "stdout",
     "output_type": "stream",
     "text": [
      "total number of states: 4\n"
     ]
    }
   ],
   "source": [
    "print(f'total number of states: {len(stock_env.states)}')"
   ]
  },
  {
   "cell_type": "code",
   "execution_count": 20,
   "metadata": {},
   "outputs": [
    {
     "name": "stdout",
     "output_type": "stream",
     "text": [
      "state dimention (5, 50, 3)\n",
      "action dimention (6,)\n"
     ]
    }
   ],
   "source": [
    "state_dim = tuple(stock_env.states[0].shape[1: ])\n",
    "action_dim = (len(env_args['asset_codes']) + 1, )\n",
    "print(f'state dimention {state_dim}')\n",
    "print(f'action dimention {action_dim}')"
   ]
  },
  {
   "cell_type": "code",
   "execution_count": 77,
   "metadata": {},
   "outputs": [
    {
     "name": "stdout",
     "output_type": "stream",
     "text": [
      "Actor Network Summary: \n",
      "Model: \"model_12\"\n",
      "_________________________________________________________________\n",
      "Layer (type)                 Output Shape              Param #   \n",
      "=================================================================\n",
      "input_19 (InputLayer)        [(None, 5, 50, 3)]        0         \n",
      "_________________________________________________________________\n",
      "conv2d_36 (Conv2D)           (None, 5, 48, 2)          20        \n",
      "_________________________________________________________________\n",
      "conv2d_37 (Conv2D)           (None, 5, 1, 21)          2037      \n",
      "_________________________________________________________________\n",
      "conv2d_38 (Conv2D)           (None, 5, 1, 1)           22        \n",
      "_________________________________________________________________\n",
      "flatten_12 (Flatten)         (None, 5)                 0         \n",
      "_________________________________________________________________\n",
      "dense_24 (Dense)             (None, 6)                 36        \n",
      "_________________________________________________________________\n",
      "softmax_6 (Softmax)          (None, 6)                 0         \n",
      "=================================================================\n",
      "Total params: 2,115\n",
      "Trainable params: 2,115\n",
      "Non-trainable params: 0\n",
      "_________________________________________________________________\n",
      "Critic Network Summary: \n",
      "Model: \"model_13\"\n",
      "__________________________________________________________________________________________________\n",
      "Layer (type)                    Output Shape         Param #     Connected to                     \n",
      "==================================================================================================\n",
      "input_20 (InputLayer)           [(None, 5, 50, 3)]   0                                            \n",
      "__________________________________________________________________________________________________\n",
      "conv2d_39 (Conv2D)              (None, 5, 48, 2)     20          input_20[0][0]                   \n",
      "__________________________________________________________________________________________________\n",
      "conv2d_40 (Conv2D)              (None, 5, 1, 21)     2037        conv2d_39[0][0]                  \n",
      "__________________________________________________________________________________________________\n",
      "conv2d_41 (Conv2D)              (None, 5, 1, 1)      22          conv2d_40[0][0]                  \n",
      "__________________________________________________________________________________________________\n",
      "flatten_13 (Flatten)            (None, 5)            0           conv2d_41[0][0]                  \n",
      "__________________________________________________________________________________________________\n",
      "dense_25 (Dense)                (None, 6)            36          flatten_13[0][0]                 \n",
      "__________________________________________________________________________________________________\n",
      "input_21 (InputLayer)           [(None, 6)]          0                                            \n",
      "__________________________________________________________________________________________________\n",
      "tf_op_layer_add_6 (TensorFlowOp [(None, 6)]          0           dense_25[0][0]                   \n",
      "                                                                 input_21[0][0]                   \n",
      "__________________________________________________________________________________________________\n",
      "dense_26 (Dense)                (None, 512)          3584        tf_op_layer_add_6[0][0]          \n",
      "__________________________________________________________________________________________________\n",
      "dense_27 (Dense)                (None, 1)            513         dense_26[0][0]                   \n",
      "==================================================================================================\n",
      "Total params: 6,212\n",
      "Trainable params: 6,212\n",
      "Non-trainable params: 0\n",
      "__________________________________________________________________________________________________\n"
     ]
    }
   ],
   "source": [
    "actor_critic = ActorCritic(state_dim, action_dim, )"
   ]
  },
  {
   "cell_type": "code",
   "execution_count": 58,
   "metadata": {},
   "outputs": [],
   "source": [
    "stock_env.reset()\n",
    "state0 = stock_env.states[0]"
   ]
  },
  {
   "cell_type": "code",
   "execution_count": 59,
   "metadata": {},
   "outputs": [
    {
     "name": "stdout",
     "output_type": "stream",
     "text": [
      "tf.Tensor([[0.16666667 0.16666667 0.16666667 0.16666667 0.16666667 0.16666667]], shape=(1, 6), dtype=float32)\n"
     ]
    }
   ],
   "source": [
    "action0 = actor_critic.main_actor(state0)\n",
    "print(action0)"
   ]
  },
  {
   "cell_type": "code",
   "execution_count": 60,
   "metadata": {},
   "outputs": [],
   "source": [
    "action0 = np.squeeze(action0)"
   ]
  },
  {
   "cell_type": "code",
   "execution_count": 61,
   "metadata": {},
   "outputs": [],
   "source": [
    "reward, done, state1 = stock_env.step(action0)"
   ]
  },
  {
   "cell_type": "code",
   "execution_count": 62,
   "metadata": {},
   "outputs": [],
   "source": [
    "buffer_args = {\n",
    "    'state_dim': state_dim,\n",
    "    'action_dim': action_dim\n",
    "}"
   ]
  },
  {
   "cell_type": "code",
   "execution_count": 63,
   "metadata": {},
   "outputs": [],
   "source": [
    "stock_buffer = Buffer(**buffer_args)"
   ]
  },
  {
   "cell_type": "code",
   "execution_count": 64,
   "metadata": {},
   "outputs": [],
   "source": [
    "stock_buffer.insert(state0, action0, reward, state1, done)"
   ]
  },
  {
   "cell_type": "code",
   "execution_count": 65,
   "metadata": {},
   "outputs": [],
   "source": [
    "train_batch = stock_buffer.sample_batch()"
   ]
  },
  {
   "cell_type": "code",
   "execution_count": 66,
   "metadata": {},
   "outputs": [],
   "source": [
    "actor_optimizer = tf.keras.optimizers.Adam(0.0001)\n",
    "critic_optimizer = tf.keras.optimizers.Adam(0.0002)"
   ]
  },
  {
   "cell_type": "code",
   "execution_count": 67,
   "metadata": {},
   "outputs": [],
   "source": [
    "actor_critic.one_step_train(train_batch, actor_optimizer, critic_optimizer)"
   ]
  },
  {
   "cell_type": "code",
   "execution_count": 68,
   "metadata": {},
   "outputs": [],
   "source": [
    "actor_critic.one_step_train(train_batch, actor_optimizer, critic_optimizer)"
   ]
  },
  {
   "cell_type": "code",
   "execution_count": 73,
   "metadata": {},
   "outputs": [],
   "source": [
    "train_args = {\n",
    "    \"env\": stock_env,\n",
    "    \"num_eps\": 20,\n",
    "    \"actor_lr\": 0.001,\n",
    "    \"critic_lr\": 0.0001,\n",
    "    \"train_every_step\": 1,\n",
    "    \"batch_size\": 1,\n",
    "    \"verbose\": True, \n",
    "}"
   ]
  },
  {
   "cell_type": "code",
   "execution_count": 78,
   "metadata": {
    "scrolled": false
   },
   "outputs": [
    {
     "name": "stdout",
     "output_type": "stream",
     "text": [
      "step 0, take action [0.16666667 0.16666667 0.16666667 0.16666667 0.16666667 0.16666667], receive reward -0.00705162785070798\n",
      "step 1, take action [0.1668334  0.16650015 0.16683334 0.16683276 0.16650021 0.16650015], receive reward 0.008914579997642624\n",
      "step 2, take action [0.1670021  0.16633527 0.16700163 0.16698976 0.16633537 0.16633593], receive reward -0.0040519838414398\n",
      "step 3, take action [0.1671703  0.16616966 0.16716854 0.16714902 0.16617005 0.1661724 ], receive reward 0.004882353797462191\n",
      "Episode 0, reward: 0.002693322102957034\n",
      "step 0, take action [0.16733828 0.1660037  0.16733491 0.16730955 0.16600443 0.16600913], receive reward -0.0070463351834357665\n",
      "step 1, take action [0.16749965 0.16587555 0.16741373 0.16745658 0.16587964 0.16587485], receive reward 0.008921193200059643\n",
      "step 2, take action [0.1676482  0.16576767 0.16743608 0.16761696 0.16577737 0.16575372], receive reward -0.004058680704200857\n",
      "step 3, take action [0.16778499 0.16567826 0.16741462 0.16778576 0.16569926 0.1656371 ], receive reward 0.00488210363918895\n",
      "Episode 1, reward: 0.0026982809516119697\n",
      "step 0, take action [nan nan nan nan nan nan], receive reward nan\n",
      "step 1, take action [nan nan nan nan nan nan], receive reward nan\n",
      "step 2, take action [nan nan nan nan nan nan], receive reward nan\n",
      "step 3, take action [nan nan nan nan nan nan], receive reward nan\n",
      "Episode 2, reward: nan\n",
      "step 0, take action [nan nan nan nan nan nan], receive reward nan\n",
      "step 1, take action [nan nan nan nan nan nan], receive reward nan\n",
      "step 2, take action [nan nan nan nan nan nan], receive reward nan\n",
      "step 3, take action [nan nan nan nan nan nan], receive reward nan\n",
      "Episode 3, reward: nan\n",
      "step 0, take action [nan nan nan nan nan nan], receive reward nan\n",
      "step 1, take action [nan nan nan nan nan nan], receive reward nan\n",
      "step 2, take action [nan nan nan nan nan nan], receive reward nan\n",
      "step 3, take action [nan nan nan nan nan nan], receive reward nan\n",
      "Episode 4, reward: nan\n",
      "step 0, take action [nan nan nan nan nan nan], receive reward nan\n",
      "step 1, take action [nan nan nan nan nan nan], receive reward nan\n",
      "step 2, take action [nan nan nan nan nan nan], receive reward nan\n",
      "step 3, take action [nan nan nan nan nan nan], receive reward nan\n",
      "Episode 5, reward: nan\n",
      "step 0, take action [nan nan nan nan nan nan], receive reward nan\n",
      "step 1, take action [nan nan nan nan nan nan], receive reward nan\n",
      "step 2, take action [nan nan nan nan nan nan], receive reward nan\n",
      "step 3, take action [nan nan nan nan nan nan], receive reward nan\n",
      "Episode 6, reward: nan\n",
      "step 0, take action [nan nan nan nan nan nan], receive reward nan\n",
      "step 1, take action [nan nan nan nan nan nan], receive reward nan\n",
      "step 2, take action [nan nan nan nan nan nan], receive reward nan\n",
      "step 3, take action [nan nan nan nan nan nan], receive reward nan\n",
      "Episode 7, reward: nan\n",
      "step 0, take action [nan nan nan nan nan nan], receive reward nan\n",
      "step 1, take action [nan nan nan nan nan nan], receive reward nan\n",
      "step 2, take action [nan nan nan nan nan nan], receive reward nan\n",
      "step 3, take action [nan nan nan nan nan nan], receive reward nan\n",
      "Episode 8, reward: nan\n",
      "step 0, take action [nan nan nan nan nan nan], receive reward nan\n",
      "step 1, take action [nan nan nan nan nan nan], receive reward nan\n",
      "step 2, take action [nan nan nan nan nan nan], receive reward nan\n",
      "step 3, take action [nan nan nan nan nan nan], receive reward nan\n",
      "Episode 9, reward: nan\n",
      "step 0, take action [nan nan nan nan nan nan], receive reward nan\n",
      "step 1, take action [nan nan nan nan nan nan], receive reward nan\n",
      "step 2, take action [nan nan nan nan nan nan], receive reward nan\n",
      "step 3, take action [nan nan nan nan nan nan], receive reward nan\n",
      "Episode 10, reward: nan\n",
      "step 0, take action [nan nan nan nan nan nan], receive reward nan\n",
      "step 1, take action [nan nan nan nan nan nan], receive reward nan\n",
      "step 2, take action [nan nan nan nan nan nan], receive reward nan\n",
      "step 3, take action [nan nan nan nan nan nan], receive reward nan\n",
      "Episode 11, reward: nan\n",
      "step 0, take action [nan nan nan nan nan nan], receive reward nan\n",
      "step 1, take action [nan nan nan nan nan nan], receive reward nan\n",
      "step 2, take action [nan nan nan nan nan nan], receive reward nan\n",
      "step 3, take action [nan nan nan nan nan nan], receive reward nan\n",
      "Episode 12, reward: nan\n",
      "step 0, take action [nan nan nan nan nan nan], receive reward nan\n",
      "step 1, take action [nan nan nan nan nan nan], receive reward nan\n",
      "step 2, take action [nan nan nan nan nan nan], receive reward nan\n",
      "step 3, take action [nan nan nan nan nan nan], receive reward nan\n",
      "Episode 13, reward: nan\n",
      "step 0, take action [nan nan nan nan nan nan], receive reward nan\n",
      "step 1, take action [nan nan nan nan nan nan], receive reward nan\n",
      "step 2, take action [nan nan nan nan nan nan], receive reward nan\n",
      "step 3, take action [nan nan nan nan nan nan], receive reward nan\n",
      "Episode 14, reward: nan\n",
      "step 0, take action [nan nan nan nan nan nan], receive reward nan\n",
      "step 1, take action [nan nan nan nan nan nan], receive reward nan\n",
      "step 2, take action [nan nan nan nan nan nan], receive reward nan\n",
      "step 3, take action [nan nan nan nan nan nan], receive reward nan\n",
      "Episode 15, reward: nan\n",
      "step 0, take action [nan nan nan nan nan nan], receive reward nan\n",
      "step 1, take action [nan nan nan nan nan nan], receive reward nan\n",
      "step 2, take action [nan nan nan nan nan nan], receive reward nan\n",
      "step 3, take action [nan nan nan nan nan nan], receive reward nan\n",
      "Episode 16, reward: nan\n",
      "step 0, take action [nan nan nan nan nan nan], receive reward nan\n",
      "step 1, take action [nan nan nan nan nan nan], receive reward nan\n",
      "step 2, take action [nan nan nan nan nan nan], receive reward nan\n",
      "step 3, take action [nan nan nan nan nan nan], receive reward nan\n",
      "Episode 17, reward: nan\n",
      "step 0, take action [nan nan nan nan nan nan], receive reward nan\n",
      "step 1, take action [nan nan nan nan nan nan], receive reward nan\n",
      "step 2, take action [nan nan nan nan nan nan], receive reward nan\n",
      "step 3, take action [nan nan nan nan nan nan], receive reward nan\n",
      "Episode 18, reward: nan\n",
      "step 0, take action [nan nan nan nan nan nan], receive reward nan\n",
      "step 1, take action [nan nan nan nan nan nan], receive reward nan\n",
      "step 2, take action [nan nan nan nan nan nan], receive reward nan\n",
      "step 3, take action [nan nan nan nan nan nan], receive reward nan\n",
      "Episode 19, reward: nan\n"
     ]
    }
   ],
   "source": [
    "rewards = actor_critic.train(**train_args)"
   ]
  },
  {
   "cell_type": "code",
   "execution_count": null,
   "metadata": {},
   "outputs": [],
   "source": []
  },
  {
   "cell_type": "code",
   "execution_count": null,
   "metadata": {},
   "outputs": [],
   "source": []
  }
 ],
 "metadata": {
  "kernelspec": {
   "display_name": "ddpg",
   "language": "python",
   "name": "ddpg"
  },
  "language_info": {
   "codemirror_mode": {
    "name": "ipython",
    "version": 3
   },
   "file_extension": ".py",
   "mimetype": "text/x-python",
   "name": "python",
   "nbconvert_exporter": "python",
   "pygments_lexer": "ipython3",
   "version": "3.6.7"
  }
 },
 "nbformat": 4,
 "nbformat_minor": 2
}
